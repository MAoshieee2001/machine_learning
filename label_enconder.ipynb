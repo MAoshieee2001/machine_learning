{
 "cells": [
  {
   "cell_type": "code",
   "execution_count": 139,
   "metadata": {
    "collapsed": true
   },
   "outputs": [],
   "source": [
    "import pandas as pd"
   ]
  },
  {
   "cell_type": "code",
   "execution_count": 140,
   "outputs": [],
   "source": [
    "array_list = [\n",
    "    ['Moises Fernando', 23, 1.70, 'Masculino', 'Estudiante', 'A+'],\n",
    "    ['Maricielo', 22, 1.66, 'Femenino', 'Egresado', 'A+'],\n",
    "    ['Nancy', 53, 1.62, 'Femenino', 'Trabajador', 'A+'],\n",
    "    ['Moises', 58, 1.70, 'Femenino', 'Trabajador', 'A+'],\n",
    "    ['Blearn', 54, 1.76, 'Masculino', 'Trabajador', 'O'],\n",
    "]"
   ],
   "metadata": {
    "collapsed": false,
    "pycharm": {
     "name": "#%%\n"
    }
   }
  },
  {
   "cell_type": "code",
   "execution_count": 141,
   "outputs": [
    {
     "data": {
      "text/plain": "           Nombres  Edad  Altura_(m)     Genero      Perfil Tipo_sangre\n0  Moises Fernando    23        1.70  Masculino  Estudiante          A+\n1        Maricielo    22        1.66   Femenino    Egresado          A+\n2            Nancy    53        1.62   Femenino  Trabajador          A+\n3           Moises    58        1.70   Femenino  Trabajador          A+\n4           Blearn    54        1.76  Masculino  Trabajador           O",
      "text/html": "<div>\n<style scoped>\n    .dataframe tbody tr th:only-of-type {\n        vertical-align: middle;\n    }\n\n    .dataframe tbody tr th {\n        vertical-align: top;\n    }\n\n    .dataframe thead th {\n        text-align: right;\n    }\n</style>\n<table border=\"1\" class=\"dataframe\">\n  <thead>\n    <tr style=\"text-align: right;\">\n      <th></th>\n      <th>Nombres</th>\n      <th>Edad</th>\n      <th>Altura_(m)</th>\n      <th>Genero</th>\n      <th>Perfil</th>\n      <th>Tipo_sangre</th>\n    </tr>\n  </thead>\n  <tbody>\n    <tr>\n      <th>0</th>\n      <td>Moises Fernando</td>\n      <td>23</td>\n      <td>1.70</td>\n      <td>Masculino</td>\n      <td>Estudiante</td>\n      <td>A+</td>\n    </tr>\n    <tr>\n      <th>1</th>\n      <td>Maricielo</td>\n      <td>22</td>\n      <td>1.66</td>\n      <td>Femenino</td>\n      <td>Egresado</td>\n      <td>A+</td>\n    </tr>\n    <tr>\n      <th>2</th>\n      <td>Nancy</td>\n      <td>53</td>\n      <td>1.62</td>\n      <td>Femenino</td>\n      <td>Trabajador</td>\n      <td>A+</td>\n    </tr>\n    <tr>\n      <th>3</th>\n      <td>Moises</td>\n      <td>58</td>\n      <td>1.70</td>\n      <td>Femenino</td>\n      <td>Trabajador</td>\n      <td>A+</td>\n    </tr>\n    <tr>\n      <th>4</th>\n      <td>Blearn</td>\n      <td>54</td>\n      <td>1.76</td>\n      <td>Masculino</td>\n      <td>Trabajador</td>\n      <td>O</td>\n    </tr>\n  </tbody>\n</table>\n</div>"
     },
     "execution_count": 141,
     "metadata": {},
     "output_type": "execute_result"
    }
   ],
   "source": [
    "data = pd.DataFrame(data=array_list, columns=['Nombres', 'Edad', 'Altura_(m)', 'Genero', 'Perfil', 'Tipo_sangre'])\n",
    "data"
   ],
   "metadata": {
    "collapsed": false,
    "pycharm": {
     "name": "#%%\n"
    }
   }
  },
  {
   "cell_type": "code",
   "execution_count": 142,
   "outputs": [
    {
     "name": "stdout",
     "output_type": "stream",
     "text": [
      "<class 'pandas.core.frame.DataFrame'>\n",
      "RangeIndex: 5 entries, 0 to 4\n",
      "Data columns (total 6 columns):\n",
      " #   Column       Non-Null Count  Dtype  \n",
      "---  ------       --------------  -----  \n",
      " 0   Nombres      5 non-null      object \n",
      " 1   Edad         5 non-null      int64  \n",
      " 2   Altura_(m)   5 non-null      float64\n",
      " 3   Genero       5 non-null      object \n",
      " 4   Perfil       5 non-null      object \n",
      " 5   Tipo_sangre  5 non-null      object \n",
      "dtypes: float64(1), int64(1), object(4)\n",
      "memory usage: 368.0+ bytes\n"
     ]
    }
   ],
   "source": [
    "data.info()"
   ],
   "metadata": {
    "collapsed": false,
    "pycharm": {
     "name": "#%%\n"
    }
   }
  },
  {
   "cell_type": "code",
   "execution_count": 143,
   "outputs": [
    {
     "data": {
      "text/plain": "['Nombres', 'Genero', 'Perfil', 'Tipo_sangre']"
     },
     "execution_count": 143,
     "metadata": {},
     "output_type": "execute_result"
    }
   ],
   "source": [
    "columnas_categoricas = [col for col in data.columns if data[col].dtypes == 'object']\n",
    "columnas_categoricas"
   ],
   "metadata": {
    "collapsed": false,
    "pycharm": {
     "name": "#%%\n"
    }
   }
  },
  {
   "cell_type": "code",
   "execution_count": 144,
   "outputs": [
    {
     "data": {
      "text/plain": "['Edad', 'Altura_(m)']"
     },
     "execution_count": 144,
     "metadata": {},
     "output_type": "execute_result"
    }
   ],
   "source": [
    "columnas_numericas = [col for col in data.columns if data[col].dtypes != 'object']\n",
    "columnas_numericas"
   ],
   "metadata": {
    "collapsed": false,
    "pycharm": {
     "name": "#%%\n"
    }
   }
  },
  {
   "cell_type": "code",
   "execution_count": 145,
   "outputs": [
    {
     "data": {
      "text/plain": "['Genero', 'Perfil', 'Tipo_sangre']"
     },
     "execution_count": 145,
     "metadata": {},
     "output_type": "execute_result"
    }
   ],
   "source": [
    "caracteristicas_categoricas = [col for col in columnas_categoricas if col != 'Nombres']\n",
    "caracteristicas_categoricas"
   ],
   "metadata": {
    "collapsed": false,
    "pycharm": {
     "name": "#%%\n"
    }
   }
  },
  {
   "cell_type": "markdown",
   "source": [
    "LABELENCONDER\n",
    "    solo esta pensando para prepocesar para cada columna, a diferencia del ONEHOTENCONDER, por ende, es importante recorrer cada una de ellas"
   ],
   "metadata": {
    "collapsed": false
   }
  },
  {
   "cell_type": "code",
   "execution_count": 146,
   "outputs": [],
   "source": [
    "from sklearn.preprocessing import LabelEncoder"
   ],
   "metadata": {
    "collapsed": false,
    "pycharm": {
     "name": "#%%\n"
    }
   }
  },
  {
   "cell_type": "code",
   "execution_count": 147,
   "outputs": [],
   "source": [
    "enconder = LabelEncoder()\n",
    "for column in caracteristicas_categoricas:\n",
    "    enconder.fit(data[column])\n",
    "    data[column] = enconder.transform(data[column])"
   ],
   "metadata": {
    "collapsed": false,
    "pycharm": {
     "name": "#%%\n"
    }
   }
  },
  {
   "cell_type": "code",
   "execution_count": 148,
   "outputs": [
    {
     "data": {
      "text/plain": "           Nombres  Edad  Altura_(m)  Genero  Perfil  Tipo_sangre\n0  Moises Fernando    23        1.70       1       1            0\n1        Maricielo    22        1.66       0       0            0\n2            Nancy    53        1.62       0       2            0\n3           Moises    58        1.70       0       2            0\n4           Blearn    54        1.76       1       2            1",
      "text/html": "<div>\n<style scoped>\n    .dataframe tbody tr th:only-of-type {\n        vertical-align: middle;\n    }\n\n    .dataframe tbody tr th {\n        vertical-align: top;\n    }\n\n    .dataframe thead th {\n        text-align: right;\n    }\n</style>\n<table border=\"1\" class=\"dataframe\">\n  <thead>\n    <tr style=\"text-align: right;\">\n      <th></th>\n      <th>Nombres</th>\n      <th>Edad</th>\n      <th>Altura_(m)</th>\n      <th>Genero</th>\n      <th>Perfil</th>\n      <th>Tipo_sangre</th>\n    </tr>\n  </thead>\n  <tbody>\n    <tr>\n      <th>0</th>\n      <td>Moises Fernando</td>\n      <td>23</td>\n      <td>1.70</td>\n      <td>1</td>\n      <td>1</td>\n      <td>0</td>\n    </tr>\n    <tr>\n      <th>1</th>\n      <td>Maricielo</td>\n      <td>22</td>\n      <td>1.66</td>\n      <td>0</td>\n      <td>0</td>\n      <td>0</td>\n    </tr>\n    <tr>\n      <th>2</th>\n      <td>Nancy</td>\n      <td>53</td>\n      <td>1.62</td>\n      <td>0</td>\n      <td>2</td>\n      <td>0</td>\n    </tr>\n    <tr>\n      <th>3</th>\n      <td>Moises</td>\n      <td>58</td>\n      <td>1.70</td>\n      <td>0</td>\n      <td>2</td>\n      <td>0</td>\n    </tr>\n    <tr>\n      <th>4</th>\n      <td>Blearn</td>\n      <td>54</td>\n      <td>1.76</td>\n      <td>1</td>\n      <td>2</td>\n      <td>1</td>\n    </tr>\n  </tbody>\n</table>\n</div>"
     },
     "execution_count": 148,
     "metadata": {},
     "output_type": "execute_result"
    }
   ],
   "source": [
    "data"
   ],
   "metadata": {
    "collapsed": false,
    "pycharm": {
     "name": "#%%\n"
    }
   }
  }
 ],
 "metadata": {
  "kernelspec": {
   "display_name": "Python 3",
   "language": "python",
   "name": "python3"
  },
  "language_info": {
   "codemirror_mode": {
    "name": "ipython",
    "version": 2
   },
   "file_extension": ".py",
   "mimetype": "text/x-python",
   "name": "python",
   "nbconvert_exporter": "python",
   "pygments_lexer": "ipython2",
   "version": "2.7.6"
  }
 },
 "nbformat": 4,
 "nbformat_minor": 0
}