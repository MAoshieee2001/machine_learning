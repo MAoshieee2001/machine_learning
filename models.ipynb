{
 "cells": [
  {
   "cell_type": "code",
   "execution_count": 296,
   "metadata": {
    "collapsed": true
   },
   "outputs": [],
   "source": [
    "import pandas as pd"
   ]
  },
  {
   "cell_type": "code",
   "execution_count": 297,
   "outputs": [
    {
     "data": {
      "text/plain": "     fecha_atención         UPS                                  UUID  \\\n0        2023-09-01  PSICOLOGIA  9819f7f1-67db-45bc-a11d-f908d5c4cc38   \n1        2023-09-01  PSICOLOGIA  d034a1a6-0689-4ee9-8911-ba8a30ed3313   \n2        2023-09-01  PSICOLOGIA  9ed9a5e5-3f56-4cc8-845b-b4751d28d12b   \n3        2023-09-01  PSICOLOGIA  f9bd4161-6750-4107-9cde-42d227df6484   \n4        2023-09-01  PSICOLOGIA  ee1def08-648b-4253-9cf7-2596abd99344   \n...             ...         ...                                   ...   \n4971     2024-06-12  PSICOLOGIA  1595d1e2-d97a-4626-9937-b6e2eb81805b   \n4972     2024-06-12  PSICOLOGIA  a3fb0749-d638-4569-abb1-fbd8c777ae57   \n4973     2024-06-12  PSICOLOGIA  8378acab-3e9d-4535-889d-dc3e7b78ca04   \n4974     2024-06-12  PSICOLOGIA  b48123bb-1480-43de-bb84-9ff1f54d9109   \n4975     2024-06-12  PSICOLOGIA  337be2c7-2221-4d6d-89ed-36845801efb2   \n\n         genero   FECHA_NA  Edad Trastorno bipolar Trastorno Depresion  \\\n0      FEMENINO 1968-07-16  56.0                SI                  NO   \n1      FEMENINO 1983-03-05  41.0                SI                  SI   \n2      FEMENINO 1993-11-17  31.0                NO                  SI   \n3      FEMENINO 1993-02-23  18.0                SI                  SI   \n4     MASCULINO 2003-09-24  31.0                NO                  SI   \n...         ...        ...   ...               ...                 ...   \n4971   FEMENINO 1985-10-25  38.0                SI                  NO   \n4972  MASCULINO 1970-05-27  54.0                NO                  NO   \n4973   FEMENINO 1996-02-27  28.0                SI                  SI   \n4974  MASCULINO 1974-01-09  50.0                SI                  SI   \n4975   FEMENINO 1990-02-06  34.0                NO                  SI   \n\n     Trastorno consumo de sustancia miedo al abandono relaciones inestables  \\\n0                                NO                SI                    SI   \n1                                NO                SI                    NO   \n2                                NO                SI                    NO   \n3                                NO                SI                    NO   \n4                                NO                SI                    SI   \n...                             ...               ...                   ...   \n4971                             NO                NO                    SI   \n4972                             NO                SI                    SI   \n4973                             NO                NO                    NO   \n4974                             NO                SI                    NO   \n4975                             SI                SI                    SI   \n\n     autoimagen inestable impulsividad conducta autolesiva  \\\n0                      NO           SI                  NO   \n1                      NO           NO                  NO   \n2                      SI           SI                  NO   \n3                      NO           SI                  NO   \n4                      SI           NO                  NO   \n...                   ...          ...                 ...   \n4971                   NO           SI                  NO   \n4972                   SI           SI                  SI   \n4973                   SI           SI                  SI   \n4974                   NO           NO                  NO   \n4975                   NO           SI                  SI   \n\n     inestabilidad emocional sensacion de vacio ira inapropiada disociacion  \\\n0                         SI                 NO              SI          NO   \n1                         SI                 NO              SI          NO   \n2                         NO                 NO              SI          NO   \n3                         NO                 NO              SI          NO   \n4                         SI                 NO              SI          NO   \n...                      ...                ...             ...         ...   \n4971                      NO                 NO              SI          SI   \n4972                      SI                 NO              SI          SI   \n4973                      NO                 NO              SI          NO   \n4974                      NO                 SI              NO          NO   \n4975                      SI                 NO              NO          NO   \n\n     nivel de gravedad  \n0           Nivel Bajo  \n1           Nivel Bajo  \n2      Nivel Alarmante  \n3           Nivel Bajo  \n4           Nivel Bajo  \n...                ...  \n4971   Nivel Alarmante  \n4972   Nivel Alarmante  \n4973   Nivel Alarmante  \n4974        Nivel Bajo  \n4975   Nivel Alarmante  \n\n[4976 rows x 19 columns]",
      "text/html": "<div>\n<style scoped>\n    .dataframe tbody tr th:only-of-type {\n        vertical-align: middle;\n    }\n\n    .dataframe tbody tr th {\n        vertical-align: top;\n    }\n\n    .dataframe thead th {\n        text-align: right;\n    }\n</style>\n<table border=\"1\" class=\"dataframe\">\n  <thead>\n    <tr style=\"text-align: right;\">\n      <th></th>\n      <th>fecha_atención</th>\n      <th>UPS</th>\n      <th>UUID</th>\n      <th>genero</th>\n      <th>FECHA_NA</th>\n      <th>Edad</th>\n      <th>Trastorno bipolar</th>\n      <th>Trastorno Depresion</th>\n      <th>Trastorno consumo de sustancia</th>\n      <th>miedo al abandono</th>\n      <th>relaciones inestables</th>\n      <th>autoimagen inestable</th>\n      <th>impulsividad</th>\n      <th>conducta autolesiva</th>\n      <th>inestabilidad emocional</th>\n      <th>sensacion de vacio</th>\n      <th>ira inapropiada</th>\n      <th>disociacion</th>\n      <th>nivel de gravedad</th>\n    </tr>\n  </thead>\n  <tbody>\n    <tr>\n      <th>0</th>\n      <td>2023-09-01</td>\n      <td>PSICOLOGIA</td>\n      <td>9819f7f1-67db-45bc-a11d-f908d5c4cc38</td>\n      <td>FEMENINO</td>\n      <td>1968-07-16</td>\n      <td>56.0</td>\n      <td>SI</td>\n      <td>NO</td>\n      <td>NO</td>\n      <td>SI</td>\n      <td>SI</td>\n      <td>NO</td>\n      <td>SI</td>\n      <td>NO</td>\n      <td>SI</td>\n      <td>NO</td>\n      <td>SI</td>\n      <td>NO</td>\n      <td>Nivel Bajo</td>\n    </tr>\n    <tr>\n      <th>1</th>\n      <td>2023-09-01</td>\n      <td>PSICOLOGIA</td>\n      <td>d034a1a6-0689-4ee9-8911-ba8a30ed3313</td>\n      <td>FEMENINO</td>\n      <td>1983-03-05</td>\n      <td>41.0</td>\n      <td>SI</td>\n      <td>SI</td>\n      <td>NO</td>\n      <td>SI</td>\n      <td>NO</td>\n      <td>NO</td>\n      <td>NO</td>\n      <td>NO</td>\n      <td>SI</td>\n      <td>NO</td>\n      <td>SI</td>\n      <td>NO</td>\n      <td>Nivel Bajo</td>\n    </tr>\n    <tr>\n      <th>2</th>\n      <td>2023-09-01</td>\n      <td>PSICOLOGIA</td>\n      <td>9ed9a5e5-3f56-4cc8-845b-b4751d28d12b</td>\n      <td>FEMENINO</td>\n      <td>1993-11-17</td>\n      <td>31.0</td>\n      <td>NO</td>\n      <td>SI</td>\n      <td>NO</td>\n      <td>SI</td>\n      <td>NO</td>\n      <td>SI</td>\n      <td>SI</td>\n      <td>NO</td>\n      <td>NO</td>\n      <td>NO</td>\n      <td>SI</td>\n      <td>NO</td>\n      <td>Nivel Alarmante</td>\n    </tr>\n    <tr>\n      <th>3</th>\n      <td>2023-09-01</td>\n      <td>PSICOLOGIA</td>\n      <td>f9bd4161-6750-4107-9cde-42d227df6484</td>\n      <td>FEMENINO</td>\n      <td>1993-02-23</td>\n      <td>18.0</td>\n      <td>SI</td>\n      <td>SI</td>\n      <td>NO</td>\n      <td>SI</td>\n      <td>NO</td>\n      <td>NO</td>\n      <td>SI</td>\n      <td>NO</td>\n      <td>NO</td>\n      <td>NO</td>\n      <td>SI</td>\n      <td>NO</td>\n      <td>Nivel Bajo</td>\n    </tr>\n    <tr>\n      <th>4</th>\n      <td>2023-09-01</td>\n      <td>PSICOLOGIA</td>\n      <td>ee1def08-648b-4253-9cf7-2596abd99344</td>\n      <td>MASCULINO</td>\n      <td>2003-09-24</td>\n      <td>31.0</td>\n      <td>NO</td>\n      <td>SI</td>\n      <td>NO</td>\n      <td>SI</td>\n      <td>SI</td>\n      <td>SI</td>\n      <td>NO</td>\n      <td>NO</td>\n      <td>SI</td>\n      <td>NO</td>\n      <td>SI</td>\n      <td>NO</td>\n      <td>Nivel Bajo</td>\n    </tr>\n    <tr>\n      <th>...</th>\n      <td>...</td>\n      <td>...</td>\n      <td>...</td>\n      <td>...</td>\n      <td>...</td>\n      <td>...</td>\n      <td>...</td>\n      <td>...</td>\n      <td>...</td>\n      <td>...</td>\n      <td>...</td>\n      <td>...</td>\n      <td>...</td>\n      <td>...</td>\n      <td>...</td>\n      <td>...</td>\n      <td>...</td>\n      <td>...</td>\n      <td>...</td>\n    </tr>\n    <tr>\n      <th>4971</th>\n      <td>2024-06-12</td>\n      <td>PSICOLOGIA</td>\n      <td>1595d1e2-d97a-4626-9937-b6e2eb81805b</td>\n      <td>FEMENINO</td>\n      <td>1985-10-25</td>\n      <td>38.0</td>\n      <td>SI</td>\n      <td>NO</td>\n      <td>NO</td>\n      <td>NO</td>\n      <td>SI</td>\n      <td>NO</td>\n      <td>SI</td>\n      <td>NO</td>\n      <td>NO</td>\n      <td>NO</td>\n      <td>SI</td>\n      <td>SI</td>\n      <td>Nivel Alarmante</td>\n    </tr>\n    <tr>\n      <th>4972</th>\n      <td>2024-06-12</td>\n      <td>PSICOLOGIA</td>\n      <td>a3fb0749-d638-4569-abb1-fbd8c777ae57</td>\n      <td>MASCULINO</td>\n      <td>1970-05-27</td>\n      <td>54.0</td>\n      <td>NO</td>\n      <td>NO</td>\n      <td>NO</td>\n      <td>SI</td>\n      <td>SI</td>\n      <td>SI</td>\n      <td>SI</td>\n      <td>SI</td>\n      <td>SI</td>\n      <td>NO</td>\n      <td>SI</td>\n      <td>SI</td>\n      <td>Nivel Alarmante</td>\n    </tr>\n    <tr>\n      <th>4973</th>\n      <td>2024-06-12</td>\n      <td>PSICOLOGIA</td>\n      <td>8378acab-3e9d-4535-889d-dc3e7b78ca04</td>\n      <td>FEMENINO</td>\n      <td>1996-02-27</td>\n      <td>28.0</td>\n      <td>SI</td>\n      <td>SI</td>\n      <td>NO</td>\n      <td>NO</td>\n      <td>NO</td>\n      <td>SI</td>\n      <td>SI</td>\n      <td>SI</td>\n      <td>NO</td>\n      <td>NO</td>\n      <td>SI</td>\n      <td>NO</td>\n      <td>Nivel Alarmante</td>\n    </tr>\n    <tr>\n      <th>4974</th>\n      <td>2024-06-12</td>\n      <td>PSICOLOGIA</td>\n      <td>b48123bb-1480-43de-bb84-9ff1f54d9109</td>\n      <td>MASCULINO</td>\n      <td>1974-01-09</td>\n      <td>50.0</td>\n      <td>SI</td>\n      <td>SI</td>\n      <td>NO</td>\n      <td>SI</td>\n      <td>NO</td>\n      <td>NO</td>\n      <td>NO</td>\n      <td>NO</td>\n      <td>NO</td>\n      <td>SI</td>\n      <td>NO</td>\n      <td>NO</td>\n      <td>Nivel Bajo</td>\n    </tr>\n    <tr>\n      <th>4975</th>\n      <td>2024-06-12</td>\n      <td>PSICOLOGIA</td>\n      <td>337be2c7-2221-4d6d-89ed-36845801efb2</td>\n      <td>FEMENINO</td>\n      <td>1990-02-06</td>\n      <td>34.0</td>\n      <td>NO</td>\n      <td>SI</td>\n      <td>SI</td>\n      <td>SI</td>\n      <td>SI</td>\n      <td>NO</td>\n      <td>SI</td>\n      <td>SI</td>\n      <td>SI</td>\n      <td>NO</td>\n      <td>NO</td>\n      <td>NO</td>\n      <td>Nivel Alarmante</td>\n    </tr>\n  </tbody>\n</table>\n<p>4976 rows × 19 columns</p>\n</div>"
     },
     "execution_count": 297,
     "metadata": {},
     "output_type": "execute_result"
    }
   ],
   "source": [
    "dataset = pd.read_excel('db/dataset_bpd.xlsx')\n",
    "dataset"
   ],
   "metadata": {
    "collapsed": false,
    "pycharm": {
     "name": "#%%\n"
    }
   }
  },
  {
   "cell_type": "code",
   "execution_count": 298,
   "outputs": [
    {
     "name": "stdout",
     "output_type": "stream",
     "text": [
      "<class 'pandas.core.frame.DataFrame'>\n",
      "RangeIndex: 4976 entries, 0 to 4975\n",
      "Data columns (total 19 columns):\n",
      " #   Column                          Non-Null Count  Dtype         \n",
      "---  ------                          --------------  -----         \n",
      " 0   fecha_atención                  4976 non-null   datetime64[ns]\n",
      " 1   UPS                             4976 non-null   object        \n",
      " 2   UUID                            4976 non-null   object        \n",
      " 3   genero                          4836 non-null   object        \n",
      " 4   FECHA_NA                        4938 non-null   datetime64[ns]\n",
      " 5   Edad                            4938 non-null   float64       \n",
      " 6   Trastorno bipolar               4976 non-null   object        \n",
      " 7   Trastorno Depresion             4976 non-null   object        \n",
      " 8   Trastorno consumo de sustancia  4976 non-null   object        \n",
      " 9   miedo al abandono               4976 non-null   object        \n",
      " 10  relaciones inestables           4976 non-null   object        \n",
      " 11  autoimagen inestable            4976 non-null   object        \n",
      " 12  impulsividad                    4976 non-null   object        \n",
      " 13  conducta autolesiva             4976 non-null   object        \n",
      " 14  inestabilidad emocional         4976 non-null   object        \n",
      " 15  sensacion de vacio              4976 non-null   object        \n",
      " 16  ira inapropiada                 4976 non-null   object        \n",
      " 17  disociacion                     4976 non-null   object        \n",
      " 18  nivel de gravedad               4976 non-null   object        \n",
      "dtypes: datetime64[ns](2), float64(1), object(16)\n",
      "memory usage: 738.8+ KB\n"
     ]
    }
   ],
   "source": [
    "dataset.info()"
   ],
   "metadata": {
    "collapsed": false,
    "pycharm": {
     "name": "#%%\n"
    }
   }
  },
  {
   "cell_type": "code",
   "execution_count": 299,
   "outputs": [],
   "source": [
    "columns = ['fecha_atencion', 'ups', 'uuid', 'genero', 'fecha_na', 'edad', 'trastorno_bipolar', 'trastorno_depresion', 'trastorno_consumo_suntancia', 'miedo_abandono',\n",
    "           'relaciones_inestables', 'autoimagen_inestable', 'impulsividad', 'conducta_autolesiva', 'inestabilidad_emocional', 'sensacion_vacio', 'ira_inapropiada', 'disociacion',\n",
    "           'nivel_resultado']\n",
    "dataset.columns = columns"
   ],
   "metadata": {
    "collapsed": false,
    "pycharm": {
     "name": "#%%\n"
    }
   }
  },
  {
   "cell_type": "code",
   "execution_count": 300,
   "outputs": [
    {
     "data": {
      "text/plain": "  fecha_atencion         ups                                  uuid     genero  \\\n0     2023-09-01  PSICOLOGIA  9819f7f1-67db-45bc-a11d-f908d5c4cc38   FEMENINO   \n1     2023-09-01  PSICOLOGIA  d034a1a6-0689-4ee9-8911-ba8a30ed3313   FEMENINO   \n2     2023-09-01  PSICOLOGIA  9ed9a5e5-3f56-4cc8-845b-b4751d28d12b   FEMENINO   \n3     2023-09-01  PSICOLOGIA  f9bd4161-6750-4107-9cde-42d227df6484   FEMENINO   \n4     2023-09-01  PSICOLOGIA  ee1def08-648b-4253-9cf7-2596abd99344  MASCULINO   \n\n    fecha_na  edad trastorno_bipolar trastorno_depresion  \\\n0 1968-07-16  56.0                SI                  NO   \n1 1983-03-05  41.0                SI                  SI   \n2 1993-11-17  31.0                NO                  SI   \n3 1993-02-23  18.0                SI                  SI   \n4 2003-09-24  31.0                NO                  SI   \n\n  trastorno_consumo_suntancia miedo_abandono relaciones_inestables  \\\n0                          NO             SI                    SI   \n1                          NO             SI                    NO   \n2                          NO             SI                    NO   \n3                          NO             SI                    NO   \n4                          NO             SI                    SI   \n\n  autoimagen_inestable impulsividad conducta_autolesiva  \\\n0                   NO           SI                  NO   \n1                   NO           NO                  NO   \n2                   SI           SI                  NO   \n3                   NO           SI                  NO   \n4                   SI           NO                  NO   \n\n  inestabilidad_emocional sensacion_vacio ira_inapropiada disociacion  \\\n0                      SI              NO              SI          NO   \n1                      SI              NO              SI          NO   \n2                      NO              NO              SI          NO   \n3                      NO              NO              SI          NO   \n4                      SI              NO              SI          NO   \n\n   nivel_resultado  \n0       Nivel Bajo  \n1       Nivel Bajo  \n2  Nivel Alarmante  \n3       Nivel Bajo  \n4       Nivel Bajo  ",
      "text/html": "<div>\n<style scoped>\n    .dataframe tbody tr th:only-of-type {\n        vertical-align: middle;\n    }\n\n    .dataframe tbody tr th {\n        vertical-align: top;\n    }\n\n    .dataframe thead th {\n        text-align: right;\n    }\n</style>\n<table border=\"1\" class=\"dataframe\">\n  <thead>\n    <tr style=\"text-align: right;\">\n      <th></th>\n      <th>fecha_atencion</th>\n      <th>ups</th>\n      <th>uuid</th>\n      <th>genero</th>\n      <th>fecha_na</th>\n      <th>edad</th>\n      <th>trastorno_bipolar</th>\n      <th>trastorno_depresion</th>\n      <th>trastorno_consumo_suntancia</th>\n      <th>miedo_abandono</th>\n      <th>relaciones_inestables</th>\n      <th>autoimagen_inestable</th>\n      <th>impulsividad</th>\n      <th>conducta_autolesiva</th>\n      <th>inestabilidad_emocional</th>\n      <th>sensacion_vacio</th>\n      <th>ira_inapropiada</th>\n      <th>disociacion</th>\n      <th>nivel_resultado</th>\n    </tr>\n  </thead>\n  <tbody>\n    <tr>\n      <th>0</th>\n      <td>2023-09-01</td>\n      <td>PSICOLOGIA</td>\n      <td>9819f7f1-67db-45bc-a11d-f908d5c4cc38</td>\n      <td>FEMENINO</td>\n      <td>1968-07-16</td>\n      <td>56.0</td>\n      <td>SI</td>\n      <td>NO</td>\n      <td>NO</td>\n      <td>SI</td>\n      <td>SI</td>\n      <td>NO</td>\n      <td>SI</td>\n      <td>NO</td>\n      <td>SI</td>\n      <td>NO</td>\n      <td>SI</td>\n      <td>NO</td>\n      <td>Nivel Bajo</td>\n    </tr>\n    <tr>\n      <th>1</th>\n      <td>2023-09-01</td>\n      <td>PSICOLOGIA</td>\n      <td>d034a1a6-0689-4ee9-8911-ba8a30ed3313</td>\n      <td>FEMENINO</td>\n      <td>1983-03-05</td>\n      <td>41.0</td>\n      <td>SI</td>\n      <td>SI</td>\n      <td>NO</td>\n      <td>SI</td>\n      <td>NO</td>\n      <td>NO</td>\n      <td>NO</td>\n      <td>NO</td>\n      <td>SI</td>\n      <td>NO</td>\n      <td>SI</td>\n      <td>NO</td>\n      <td>Nivel Bajo</td>\n    </tr>\n    <tr>\n      <th>2</th>\n      <td>2023-09-01</td>\n      <td>PSICOLOGIA</td>\n      <td>9ed9a5e5-3f56-4cc8-845b-b4751d28d12b</td>\n      <td>FEMENINO</td>\n      <td>1993-11-17</td>\n      <td>31.0</td>\n      <td>NO</td>\n      <td>SI</td>\n      <td>NO</td>\n      <td>SI</td>\n      <td>NO</td>\n      <td>SI</td>\n      <td>SI</td>\n      <td>NO</td>\n      <td>NO</td>\n      <td>NO</td>\n      <td>SI</td>\n      <td>NO</td>\n      <td>Nivel Alarmante</td>\n    </tr>\n    <tr>\n      <th>3</th>\n      <td>2023-09-01</td>\n      <td>PSICOLOGIA</td>\n      <td>f9bd4161-6750-4107-9cde-42d227df6484</td>\n      <td>FEMENINO</td>\n      <td>1993-02-23</td>\n      <td>18.0</td>\n      <td>SI</td>\n      <td>SI</td>\n      <td>NO</td>\n      <td>SI</td>\n      <td>NO</td>\n      <td>NO</td>\n      <td>SI</td>\n      <td>NO</td>\n      <td>NO</td>\n      <td>NO</td>\n      <td>SI</td>\n      <td>NO</td>\n      <td>Nivel Bajo</td>\n    </tr>\n    <tr>\n      <th>4</th>\n      <td>2023-09-01</td>\n      <td>PSICOLOGIA</td>\n      <td>ee1def08-648b-4253-9cf7-2596abd99344</td>\n      <td>MASCULINO</td>\n      <td>2003-09-24</td>\n      <td>31.0</td>\n      <td>NO</td>\n      <td>SI</td>\n      <td>NO</td>\n      <td>SI</td>\n      <td>SI</td>\n      <td>SI</td>\n      <td>NO</td>\n      <td>NO</td>\n      <td>SI</td>\n      <td>NO</td>\n      <td>SI</td>\n      <td>NO</td>\n      <td>Nivel Bajo</td>\n    </tr>\n  </tbody>\n</table>\n</div>"
     },
     "execution_count": 300,
     "metadata": {},
     "output_type": "execute_result"
    }
   ],
   "source": [
    "dataset.head(5)"
   ],
   "metadata": {
    "collapsed": false,
    "pycharm": {
     "name": "#%%\n"
    }
   }
  },
  {
   "cell_type": "code",
   "execution_count": 301,
   "outputs": [],
   "source": [
    "columns_categoricas = ['genero', 'trastorno_bipolar', 'trastorno_depresion', 'trastorno_consumo_suntancia', 'miedo_abandono', 'relaciones_inestables', 'autoimagen_inestable',\n",
    "                       'impulsividad', 'conducta_autolesiva', 'inestabilidad_emocional', 'sensacion_vacio', 'ira_inapropiada', 'disociacion', 'nivel_resultado']\n",
    "columnas_numericas = ['edad']"
   ],
   "metadata": {
    "collapsed": false,
    "pycharm": {
     "name": "#%%\n"
    }
   }
  },
  {
   "cell_type": "markdown",
   "source": [
    "IMPUTACIÓN"
   ],
   "metadata": {
    "collapsed": false
   }
  },
  {
   "cell_type": "code",
   "execution_count": 302,
   "outputs": [],
   "source": [
    "from sklearn.impute import SimpleImputer\n",
    "import numpy as np"
   ],
   "metadata": {
    "collapsed": false,
    "pycharm": {
     "name": "#%%\n"
    }
   }
  },
  {
   "cell_type": "code",
   "execution_count": 303,
   "outputs": [
    {
     "data": {
      "text/plain": "SimpleImputer(fill_value=nan, strategy='median')",
      "text/html": "<style>#sk-container-id-19 {\n  /* Definition of color scheme common for light and dark mode */\n  --sklearn-color-text: black;\n  --sklearn-color-line: gray;\n  /* Definition of color scheme for unfitted estimators */\n  --sklearn-color-unfitted-level-0: #fff5e6;\n  --sklearn-color-unfitted-level-1: #f6e4d2;\n  --sklearn-color-unfitted-level-2: #ffe0b3;\n  --sklearn-color-unfitted-level-3: chocolate;\n  /* Definition of color scheme for fitted estimators */\n  --sklearn-color-fitted-level-0: #f0f8ff;\n  --sklearn-color-fitted-level-1: #d4ebff;\n  --sklearn-color-fitted-level-2: #b3dbfd;\n  --sklearn-color-fitted-level-3: cornflowerblue;\n\n  /* Specific color for light theme */\n  --sklearn-color-text-on-default-background: var(--sg-text-color, var(--theme-code-foreground, var(--jp-content-font-color1, black)));\n  --sklearn-color-background: var(--sg-background-color, var(--theme-background, var(--jp-layout-color0, white)));\n  --sklearn-color-border-box: var(--sg-text-color, var(--theme-code-foreground, var(--jp-content-font-color1, black)));\n  --sklearn-color-icon: #696969;\n\n  @media (prefers-color-scheme: dark) {\n    /* Redefinition of color scheme for dark theme */\n    --sklearn-color-text-on-default-background: var(--sg-text-color, var(--theme-code-foreground, var(--jp-content-font-color1, white)));\n    --sklearn-color-background: var(--sg-background-color, var(--theme-background, var(--jp-layout-color0, #111)));\n    --sklearn-color-border-box: var(--sg-text-color, var(--theme-code-foreground, var(--jp-content-font-color1, white)));\n    --sklearn-color-icon: #878787;\n  }\n}\n\n#sk-container-id-19 {\n  color: var(--sklearn-color-text);\n}\n\n#sk-container-id-19 pre {\n  padding: 0;\n}\n\n#sk-container-id-19 input.sk-hidden--visually {\n  border: 0;\n  clip: rect(1px 1px 1px 1px);\n  clip: rect(1px, 1px, 1px, 1px);\n  height: 1px;\n  margin: -1px;\n  overflow: hidden;\n  padding: 0;\n  position: absolute;\n  width: 1px;\n}\n\n#sk-container-id-19 div.sk-dashed-wrapped {\n  border: 1px dashed var(--sklearn-color-line);\n  margin: 0 0.4em 0.5em 0.4em;\n  box-sizing: border-box;\n  padding-bottom: 0.4em;\n  background-color: var(--sklearn-color-background);\n}\n\n#sk-container-id-19 div.sk-container {\n  /* jupyter's `normalize.less` sets `[hidden] { display: none; }`\n     but bootstrap.min.css set `[hidden] { display: none !important; }`\n     so we also need the `!important` here to be able to override the\n     default hidden behavior on the sphinx rendered scikit-learn.org.\n     See: https://github.com/scikit-learn/scikit-learn/issues/21755 */\n  display: inline-block !important;\n  position: relative;\n}\n\n#sk-container-id-19 div.sk-text-repr-fallback {\n  display: none;\n}\n\ndiv.sk-parallel-item,\ndiv.sk-serial,\ndiv.sk-item {\n  /* draw centered vertical line to link estimators */\n  background-image: linear-gradient(var(--sklearn-color-text-on-default-background), var(--sklearn-color-text-on-default-background));\n  background-size: 2px 100%;\n  background-repeat: no-repeat;\n  background-position: center center;\n}\n\n/* Parallel-specific style estimator block */\n\n#sk-container-id-19 div.sk-parallel-item::after {\n  content: \"\";\n  width: 100%;\n  border-bottom: 2px solid var(--sklearn-color-text-on-default-background);\n  flex-grow: 1;\n}\n\n#sk-container-id-19 div.sk-parallel {\n  display: flex;\n  align-items: stretch;\n  justify-content: center;\n  background-color: var(--sklearn-color-background);\n  position: relative;\n}\n\n#sk-container-id-19 div.sk-parallel-item {\n  display: flex;\n  flex-direction: column;\n}\n\n#sk-container-id-19 div.sk-parallel-item:first-child::after {\n  align-self: flex-end;\n  width: 50%;\n}\n\n#sk-container-id-19 div.sk-parallel-item:last-child::after {\n  align-self: flex-start;\n  width: 50%;\n}\n\n#sk-container-id-19 div.sk-parallel-item:only-child::after {\n  width: 0;\n}\n\n/* Serial-specific style estimator block */\n\n#sk-container-id-19 div.sk-serial {\n  display: flex;\n  flex-direction: column;\n  align-items: center;\n  background-color: var(--sklearn-color-background);\n  padding-right: 1em;\n  padding-left: 1em;\n}\n\n\n/* Toggleable style: style used for estimator/Pipeline/ColumnTransformer box that is\nclickable and can be expanded/collapsed.\n- Pipeline and ColumnTransformer use this feature and define the default style\n- Estimators will overwrite some part of the style using the `sk-estimator` class\n*/\n\n/* Pipeline and ColumnTransformer style (default) */\n\n#sk-container-id-19 div.sk-toggleable {\n  /* Default theme specific background. It is overwritten whether we have a\n  specific estimator or a Pipeline/ColumnTransformer */\n  background-color: var(--sklearn-color-background);\n}\n\n/* Toggleable label */\n#sk-container-id-19 label.sk-toggleable__label {\n  cursor: pointer;\n  display: block;\n  width: 100%;\n  margin-bottom: 0;\n  padding: 0.5em;\n  box-sizing: border-box;\n  text-align: center;\n}\n\n#sk-container-id-19 label.sk-toggleable__label-arrow:before {\n  /* Arrow on the left of the label */\n  content: \"▸\";\n  float: left;\n  margin-right: 0.25em;\n  color: var(--sklearn-color-icon);\n}\n\n#sk-container-id-19 label.sk-toggleable__label-arrow:hover:before {\n  color: var(--sklearn-color-text);\n}\n\n/* Toggleable content - dropdown */\n\n#sk-container-id-19 div.sk-toggleable__content {\n  max-height: 0;\n  max-width: 0;\n  overflow: hidden;\n  text-align: left;\n  /* unfitted */\n  background-color: var(--sklearn-color-unfitted-level-0);\n}\n\n#sk-container-id-19 div.sk-toggleable__content.fitted {\n  /* fitted */\n  background-color: var(--sklearn-color-fitted-level-0);\n}\n\n#sk-container-id-19 div.sk-toggleable__content pre {\n  margin: 0.2em;\n  border-radius: 0.25em;\n  color: var(--sklearn-color-text);\n  /* unfitted */\n  background-color: var(--sklearn-color-unfitted-level-0);\n}\n\n#sk-container-id-19 div.sk-toggleable__content.fitted pre {\n  /* unfitted */\n  background-color: var(--sklearn-color-fitted-level-0);\n}\n\n#sk-container-id-19 input.sk-toggleable__control:checked~div.sk-toggleable__content {\n  /* Expand drop-down */\n  max-height: 200px;\n  max-width: 100%;\n  overflow: auto;\n}\n\n#sk-container-id-19 input.sk-toggleable__control:checked~label.sk-toggleable__label-arrow:before {\n  content: \"▾\";\n}\n\n/* Pipeline/ColumnTransformer-specific style */\n\n#sk-container-id-19 div.sk-label input.sk-toggleable__control:checked~label.sk-toggleable__label {\n  color: var(--sklearn-color-text);\n  background-color: var(--sklearn-color-unfitted-level-2);\n}\n\n#sk-container-id-19 div.sk-label.fitted input.sk-toggleable__control:checked~label.sk-toggleable__label {\n  background-color: var(--sklearn-color-fitted-level-2);\n}\n\n/* Estimator-specific style */\n\n/* Colorize estimator box */\n#sk-container-id-19 div.sk-estimator input.sk-toggleable__control:checked~label.sk-toggleable__label {\n  /* unfitted */\n  background-color: var(--sklearn-color-unfitted-level-2);\n}\n\n#sk-container-id-19 div.sk-estimator.fitted input.sk-toggleable__control:checked~label.sk-toggleable__label {\n  /* fitted */\n  background-color: var(--sklearn-color-fitted-level-2);\n}\n\n#sk-container-id-19 div.sk-label label.sk-toggleable__label,\n#sk-container-id-19 div.sk-label label {\n  /* The background is the default theme color */\n  color: var(--sklearn-color-text-on-default-background);\n}\n\n/* On hover, darken the color of the background */\n#sk-container-id-19 div.sk-label:hover label.sk-toggleable__label {\n  color: var(--sklearn-color-text);\n  background-color: var(--sklearn-color-unfitted-level-2);\n}\n\n/* Label box, darken color on hover, fitted */\n#sk-container-id-19 div.sk-label.fitted:hover label.sk-toggleable__label.fitted {\n  color: var(--sklearn-color-text);\n  background-color: var(--sklearn-color-fitted-level-2);\n}\n\n/* Estimator label */\n\n#sk-container-id-19 div.sk-label label {\n  font-family: monospace;\n  font-weight: bold;\n  display: inline-block;\n  line-height: 1.2em;\n}\n\n#sk-container-id-19 div.sk-label-container {\n  text-align: center;\n}\n\n/* Estimator-specific */\n#sk-container-id-19 div.sk-estimator {\n  font-family: monospace;\n  border: 1px dotted var(--sklearn-color-border-box);\n  border-radius: 0.25em;\n  box-sizing: border-box;\n  margin-bottom: 0.5em;\n  /* unfitted */\n  background-color: var(--sklearn-color-unfitted-level-0);\n}\n\n#sk-container-id-19 div.sk-estimator.fitted {\n  /* fitted */\n  background-color: var(--sklearn-color-fitted-level-0);\n}\n\n/* on hover */\n#sk-container-id-19 div.sk-estimator:hover {\n  /* unfitted */\n  background-color: var(--sklearn-color-unfitted-level-2);\n}\n\n#sk-container-id-19 div.sk-estimator.fitted:hover {\n  /* fitted */\n  background-color: var(--sklearn-color-fitted-level-2);\n}\n\n/* Specification for estimator info (e.g. \"i\" and \"?\") */\n\n/* Common style for \"i\" and \"?\" */\n\n.sk-estimator-doc-link,\na:link.sk-estimator-doc-link,\na:visited.sk-estimator-doc-link {\n  float: right;\n  font-size: smaller;\n  line-height: 1em;\n  font-family: monospace;\n  background-color: var(--sklearn-color-background);\n  border-radius: 1em;\n  height: 1em;\n  width: 1em;\n  text-decoration: none !important;\n  margin-left: 1ex;\n  /* unfitted */\n  border: var(--sklearn-color-unfitted-level-1) 1pt solid;\n  color: var(--sklearn-color-unfitted-level-1);\n}\n\n.sk-estimator-doc-link.fitted,\na:link.sk-estimator-doc-link.fitted,\na:visited.sk-estimator-doc-link.fitted {\n  /* fitted */\n  border: var(--sklearn-color-fitted-level-1) 1pt solid;\n  color: var(--sklearn-color-fitted-level-1);\n}\n\n/* On hover */\ndiv.sk-estimator:hover .sk-estimator-doc-link:hover,\n.sk-estimator-doc-link:hover,\ndiv.sk-label-container:hover .sk-estimator-doc-link:hover,\n.sk-estimator-doc-link:hover {\n  /* unfitted */\n  background-color: var(--sklearn-color-unfitted-level-3);\n  color: var(--sklearn-color-background);\n  text-decoration: none;\n}\n\ndiv.sk-estimator.fitted:hover .sk-estimator-doc-link.fitted:hover,\n.sk-estimator-doc-link.fitted:hover,\ndiv.sk-label-container:hover .sk-estimator-doc-link.fitted:hover,\n.sk-estimator-doc-link.fitted:hover {\n  /* fitted */\n  background-color: var(--sklearn-color-fitted-level-3);\n  color: var(--sklearn-color-background);\n  text-decoration: none;\n}\n\n/* Span, style for the box shown on hovering the info icon */\n.sk-estimator-doc-link span {\n  display: none;\n  z-index: 9999;\n  position: relative;\n  font-weight: normal;\n  right: .2ex;\n  padding: .5ex;\n  margin: .5ex;\n  width: min-content;\n  min-width: 20ex;\n  max-width: 50ex;\n  color: var(--sklearn-color-text);\n  box-shadow: 2pt 2pt 4pt #999;\n  /* unfitted */\n  background: var(--sklearn-color-unfitted-level-0);\n  border: .5pt solid var(--sklearn-color-unfitted-level-3);\n}\n\n.sk-estimator-doc-link.fitted span {\n  /* fitted */\n  background: var(--sklearn-color-fitted-level-0);\n  border: var(--sklearn-color-fitted-level-3);\n}\n\n.sk-estimator-doc-link:hover span {\n  display: block;\n}\n\n/* \"?\"-specific style due to the `<a>` HTML tag */\n\n#sk-container-id-19 a.estimator_doc_link {\n  float: right;\n  font-size: 1rem;\n  line-height: 1em;\n  font-family: monospace;\n  background-color: var(--sklearn-color-background);\n  border-radius: 1rem;\n  height: 1rem;\n  width: 1rem;\n  text-decoration: none;\n  /* unfitted */\n  color: var(--sklearn-color-unfitted-level-1);\n  border: var(--sklearn-color-unfitted-level-1) 1pt solid;\n}\n\n#sk-container-id-19 a.estimator_doc_link.fitted {\n  /* fitted */\n  border: var(--sklearn-color-fitted-level-1) 1pt solid;\n  color: var(--sklearn-color-fitted-level-1);\n}\n\n/* On hover */\n#sk-container-id-19 a.estimator_doc_link:hover {\n  /* unfitted */\n  background-color: var(--sklearn-color-unfitted-level-3);\n  color: var(--sklearn-color-background);\n  text-decoration: none;\n}\n\n#sk-container-id-19 a.estimator_doc_link.fitted:hover {\n  /* fitted */\n  background-color: var(--sklearn-color-fitted-level-3);\n}\n</style><div id=\"sk-container-id-19\" class=\"sk-top-container\"><div class=\"sk-text-repr-fallback\"><pre>SimpleImputer(fill_value=nan, strategy=&#x27;median&#x27;)</pre><b>In a Jupyter environment, please rerun this cell to show the HTML representation or trust the notebook. <br />On GitHub, the HTML representation is unable to render, please try loading this page with nbviewer.org.</b></div><div class=\"sk-container\" hidden><div class=\"sk-item\"><div class=\"sk-estimator fitted sk-toggleable\"><input class=\"sk-toggleable__control sk-hidden--visually\" id=\"sk-estimator-id-19\" type=\"checkbox\" checked><label for=\"sk-estimator-id-19\" class=\"sk-toggleable__label fitted sk-toggleable__label-arrow fitted\">&nbsp;&nbsp;SimpleImputer<a class=\"sk-estimator-doc-link fitted\" rel=\"noreferrer\" target=\"_blank\" href=\"https://scikit-learn.org/1.5/modules/generated/sklearn.impute.SimpleImputer.html\">?<span>Documentation for SimpleImputer</span></a><span class=\"sk-estimator-doc-link fitted\">i<span>Fitted</span></span></label><div class=\"sk-toggleable__content fitted\"><pre>SimpleImputer(fill_value=nan, strategy=&#x27;median&#x27;)</pre></div> </div></div></div></div>"
     },
     "execution_count": 303,
     "metadata": {},
     "output_type": "execute_result"
    }
   ],
   "source": [
    "#\n",
    "imputador_categorico = SimpleImputer(fill_value=np.nan, strategy='most_frequent')\n",
    "imputador_categorico.fit(dataset[columns_categoricas])\n",
    "#\n",
    "imputador_numerico = SimpleImputer(fill_value=np.nan, strategy='median')\n",
    "imputador_numerico.fit(dataset[columnas_numericas])"
   ],
   "metadata": {
    "collapsed": false,
    "pycharm": {
     "name": "#%%\n"
    }
   }
  },
  {
   "cell_type": "code",
   "execution_count": 304,
   "outputs": [],
   "source": [
    "#\n",
    "data_cat_imput = pd.DataFrame(data=imputador_categorico.transform(dataset[columns_categoricas]),\n",
    "                              columns=columns_categoricas,\n",
    "                              dtype='object')\n",
    "#\n",
    "data_num_imput = pd.DataFrame(data=imputador_numerico.transform(dataset[columnas_numericas]),\n",
    "                              columns=columnas_numericas,\n",
    "                              dtype='int')\n",
    "#\n",
    "dataset = pd.concat([data_num_imput, data_cat_imput], axis=1)"
   ],
   "metadata": {
    "collapsed": false,
    "pycharm": {
     "name": "#%%\n"
    }
   }
  },
  {
   "cell_type": "markdown",
   "source": [
    "OVER-SAMPLING"
   ],
   "metadata": {
    "collapsed": false
   }
  },
  {
   "cell_type": "code",
   "execution_count": 305,
   "outputs": [],
   "source": [
    "from imblearn.over_sampling import SMOTENC"
   ],
   "metadata": {
    "collapsed": false,
    "pycharm": {
     "name": "#%%\n"
    }
   }
  },
  {
   "cell_type": "code",
   "execution_count": 306,
   "outputs": [],
   "source": [
    "X = dataset.drop('nivel_resultado', axis=1)\n",
    "Y = dataset['nivel_resultado']"
   ],
   "metadata": {
    "collapsed": false,
    "pycharm": {
     "name": "#%%\n"
    }
   }
  },
  {
   "cell_type": "code",
   "execution_count": 307,
   "outputs": [
    {
     "data": {
      "text/plain": "[1, 2, 3, 4, 5, 6, 7, 8, 9, 10, 11, 12, 13]"
     },
     "execution_count": 307,
     "metadata": {},
     "output_type": "execute_result"
    }
   ],
   "source": [
    "caracteristicas_categoricas = [X.columns.get_loc(col) for col in X if X[col].dtypes == 'object']\n",
    "caracteristicas_categoricas"
   ],
   "metadata": {
    "collapsed": false,
    "pycharm": {
     "name": "#%%\n"
    }
   }
  },
  {
   "cell_type": "code",
   "execution_count": 308,
   "outputs": [],
   "source": [
    "smotenc = SMOTENC(random_state=100, categorical_features=caracteristicas_categoricas)\n",
    "X, Y = smotenc.fit_resample(X, Y)"
   ],
   "metadata": {
    "collapsed": false,
    "pycharm": {
     "name": "#%%\n"
    }
   }
  },
  {
   "cell_type": "code",
   "execution_count": 309,
   "outputs": [
    {
     "data": {
      "text/plain": "      edad     genero trastorno_bipolar trastorno_depresion  \\\n0       56   FEMENINO                SI                  NO   \n1       41   FEMENINO                SI                  SI   \n2       31   FEMENINO                NO                  SI   \n3       18   FEMENINO                SI                  SI   \n4       31  MASCULINO                NO                  SI   \n...    ...        ...               ...                 ...   \n7033    39   FEMENINO                NO                  SI   \n7034    16  MASCULINO                NO                  SI   \n7035    18   FEMENINO                NO                  NO   \n7036    41  MASCULINO                NO                  SI   \n7037    17   FEMENINO                NO                  SI   \n\n     trastorno_consumo_suntancia miedo_abandono relaciones_inestables  \\\n0                             NO             SI                    SI   \n1                             NO             SI                    NO   \n2                             NO             SI                    NO   \n3                             NO             SI                    NO   \n4                             NO             SI                    SI   \n...                          ...            ...                   ...   \n7033                          NO             SI                    NO   \n7034                          NO             SI                    NO   \n7035                          SI             NO                    NO   \n7036                          NO             NO                    SI   \n7037                          NO             SI                    NO   \n\n     autoimagen_inestable impulsividad conducta_autolesiva  \\\n0                      NO           SI                  NO   \n1                      NO           NO                  NO   \n2                      SI           SI                  NO   \n3                      NO           SI                  NO   \n4                      SI           NO                  NO   \n...                   ...          ...                 ...   \n7033                   NO           NO                  SI   \n7034                   SI           SI                  NO   \n7035                   NO           NO                  NO   \n7036                   NO           SI                  NO   \n7037                   NO           SI                  NO   \n\n     inestabilidad_emocional sensacion_vacio ira_inapropiada disociacion  \\\n0                         SI              NO              SI          NO   \n1                         SI              NO              SI          NO   \n2                         NO              NO              SI          NO   \n3                         NO              NO              SI          NO   \n4                         SI              NO              SI          NO   \n...                      ...             ...             ...         ...   \n7033                      SI              SI              SI          NO   \n7034                      NO              NO              SI          NO   \n7035                      SI              SI              SI          NO   \n7036                      SI              SI              SI          NO   \n7037                      NO              NO              SI          NO   \n\n      nivel_resultado  \n0          Nivel Bajo  \n1          Nivel Bajo  \n2     Nivel Alarmante  \n3          Nivel Bajo  \n4          Nivel Bajo  \n...               ...  \n7033  Nivel Alarmante  \n7034  Nivel Alarmante  \n7035  Nivel Alarmante  \n7036  Nivel Alarmante  \n7037  Nivel Alarmante  \n\n[7038 rows x 15 columns]",
      "text/html": "<div>\n<style scoped>\n    .dataframe tbody tr th:only-of-type {\n        vertical-align: middle;\n    }\n\n    .dataframe tbody tr th {\n        vertical-align: top;\n    }\n\n    .dataframe thead th {\n        text-align: right;\n    }\n</style>\n<table border=\"1\" class=\"dataframe\">\n  <thead>\n    <tr style=\"text-align: right;\">\n      <th></th>\n      <th>edad</th>\n      <th>genero</th>\n      <th>trastorno_bipolar</th>\n      <th>trastorno_depresion</th>\n      <th>trastorno_consumo_suntancia</th>\n      <th>miedo_abandono</th>\n      <th>relaciones_inestables</th>\n      <th>autoimagen_inestable</th>\n      <th>impulsividad</th>\n      <th>conducta_autolesiva</th>\n      <th>inestabilidad_emocional</th>\n      <th>sensacion_vacio</th>\n      <th>ira_inapropiada</th>\n      <th>disociacion</th>\n      <th>nivel_resultado</th>\n    </tr>\n  </thead>\n  <tbody>\n    <tr>\n      <th>0</th>\n      <td>56</td>\n      <td>FEMENINO</td>\n      <td>SI</td>\n      <td>NO</td>\n      <td>NO</td>\n      <td>SI</td>\n      <td>SI</td>\n      <td>NO</td>\n      <td>SI</td>\n      <td>NO</td>\n      <td>SI</td>\n      <td>NO</td>\n      <td>SI</td>\n      <td>NO</td>\n      <td>Nivel Bajo</td>\n    </tr>\n    <tr>\n      <th>1</th>\n      <td>41</td>\n      <td>FEMENINO</td>\n      <td>SI</td>\n      <td>SI</td>\n      <td>NO</td>\n      <td>SI</td>\n      <td>NO</td>\n      <td>NO</td>\n      <td>NO</td>\n      <td>NO</td>\n      <td>SI</td>\n      <td>NO</td>\n      <td>SI</td>\n      <td>NO</td>\n      <td>Nivel Bajo</td>\n    </tr>\n    <tr>\n      <th>2</th>\n      <td>31</td>\n      <td>FEMENINO</td>\n      <td>NO</td>\n      <td>SI</td>\n      <td>NO</td>\n      <td>SI</td>\n      <td>NO</td>\n      <td>SI</td>\n      <td>SI</td>\n      <td>NO</td>\n      <td>NO</td>\n      <td>NO</td>\n      <td>SI</td>\n      <td>NO</td>\n      <td>Nivel Alarmante</td>\n    </tr>\n    <tr>\n      <th>3</th>\n      <td>18</td>\n      <td>FEMENINO</td>\n      <td>SI</td>\n      <td>SI</td>\n      <td>NO</td>\n      <td>SI</td>\n      <td>NO</td>\n      <td>NO</td>\n      <td>SI</td>\n      <td>NO</td>\n      <td>NO</td>\n      <td>NO</td>\n      <td>SI</td>\n      <td>NO</td>\n      <td>Nivel Bajo</td>\n    </tr>\n    <tr>\n      <th>4</th>\n      <td>31</td>\n      <td>MASCULINO</td>\n      <td>NO</td>\n      <td>SI</td>\n      <td>NO</td>\n      <td>SI</td>\n      <td>SI</td>\n      <td>SI</td>\n      <td>NO</td>\n      <td>NO</td>\n      <td>SI</td>\n      <td>NO</td>\n      <td>SI</td>\n      <td>NO</td>\n      <td>Nivel Bajo</td>\n    </tr>\n    <tr>\n      <th>...</th>\n      <td>...</td>\n      <td>...</td>\n      <td>...</td>\n      <td>...</td>\n      <td>...</td>\n      <td>...</td>\n      <td>...</td>\n      <td>...</td>\n      <td>...</td>\n      <td>...</td>\n      <td>...</td>\n      <td>...</td>\n      <td>...</td>\n      <td>...</td>\n      <td>...</td>\n    </tr>\n    <tr>\n      <th>7033</th>\n      <td>39</td>\n      <td>FEMENINO</td>\n      <td>NO</td>\n      <td>SI</td>\n      <td>NO</td>\n      <td>SI</td>\n      <td>NO</td>\n      <td>NO</td>\n      <td>NO</td>\n      <td>SI</td>\n      <td>SI</td>\n      <td>SI</td>\n      <td>SI</td>\n      <td>NO</td>\n      <td>Nivel Alarmante</td>\n    </tr>\n    <tr>\n      <th>7034</th>\n      <td>16</td>\n      <td>MASCULINO</td>\n      <td>NO</td>\n      <td>SI</td>\n      <td>NO</td>\n      <td>SI</td>\n      <td>NO</td>\n      <td>SI</td>\n      <td>SI</td>\n      <td>NO</td>\n      <td>NO</td>\n      <td>NO</td>\n      <td>SI</td>\n      <td>NO</td>\n      <td>Nivel Alarmante</td>\n    </tr>\n    <tr>\n      <th>7035</th>\n      <td>18</td>\n      <td>FEMENINO</td>\n      <td>NO</td>\n      <td>NO</td>\n      <td>SI</td>\n      <td>NO</td>\n      <td>NO</td>\n      <td>NO</td>\n      <td>NO</td>\n      <td>NO</td>\n      <td>SI</td>\n      <td>SI</td>\n      <td>SI</td>\n      <td>NO</td>\n      <td>Nivel Alarmante</td>\n    </tr>\n    <tr>\n      <th>7036</th>\n      <td>41</td>\n      <td>MASCULINO</td>\n      <td>NO</td>\n      <td>SI</td>\n      <td>NO</td>\n      <td>NO</td>\n      <td>SI</td>\n      <td>NO</td>\n      <td>SI</td>\n      <td>NO</td>\n      <td>SI</td>\n      <td>SI</td>\n      <td>SI</td>\n      <td>NO</td>\n      <td>Nivel Alarmante</td>\n    </tr>\n    <tr>\n      <th>7037</th>\n      <td>17</td>\n      <td>FEMENINO</td>\n      <td>NO</td>\n      <td>SI</td>\n      <td>NO</td>\n      <td>SI</td>\n      <td>NO</td>\n      <td>NO</td>\n      <td>SI</td>\n      <td>NO</td>\n      <td>NO</td>\n      <td>NO</td>\n      <td>SI</td>\n      <td>NO</td>\n      <td>Nivel Alarmante</td>\n    </tr>\n  </tbody>\n</table>\n<p>7038 rows × 15 columns</p>\n</div>"
     },
     "execution_count": 309,
     "metadata": {},
     "output_type": "execute_result"
    }
   ],
   "source": [
    "dataset_final = pd.concat([X, Y], axis=1)\n",
    "dataset_final"
   ],
   "metadata": {
    "collapsed": false,
    "pycharm": {
     "name": "#%%\n"
    }
   }
  },
  {
   "cell_type": "markdown",
   "source": [
    "PREPROCESAMIENTO"
   ],
   "metadata": {
    "collapsed": false
   }
  },
  {
   "cell_type": "code",
   "execution_count": 310,
   "outputs": [],
   "source": [
    "from sklearn.preprocessing import OneHotEncoder"
   ],
   "metadata": {
    "collapsed": false,
    "pycharm": {
     "name": "#%%\n"
    }
   }
  },
  {
   "cell_type": "code",
   "execution_count": 311,
   "outputs": [],
   "source": [
    "caracteristicas = dataset_final.drop(['nivel_resultado', 'edad'], axis=1)\n",
    "target = dataset_final['nivel_resultado']"
   ],
   "metadata": {
    "collapsed": false,
    "pycharm": {
     "name": "#%%\n"
    }
   }
  },
  {
   "cell_type": "code",
   "execution_count": 312,
   "outputs": [],
   "source": [
    "enconder = OneHotEncoder(handle_unknown='ignore', sparse_output=False)\n",
    "enconder.fit(caracteristicas)\n",
    "data_enconder = pd.DataFrame(data=enconder.transform(caracteristicas), columns=enconder.get_feature_names_out(caracteristicas.columns))\n",
    "dataset_final = pd.concat([dataset_final, data_enconder], axis=1)\n",
    "dataset_final = dataset_final.drop(columns=caracteristicas.columns, axis=1)"
   ],
   "metadata": {
    "collapsed": false,
    "pycharm": {
     "name": "#%%\n"
    }
   }
  },
  {
   "cell_type": "code",
   "execution_count": 313,
   "outputs": [],
   "source": [
    "from sklearn.preprocessing import LabelEncoder"
   ],
   "metadata": {
    "collapsed": false,
    "pycharm": {
     "name": "#%%\n"
    }
   }
  },
  {
   "cell_type": "code",
   "execution_count": 314,
   "outputs": [
    {
     "data": {
      "text/plain": "['Nivel Alarmante', 'Nivel Bajo']"
     },
     "execution_count": 314,
     "metadata": {},
     "output_type": "execute_result"
    }
   ],
   "source": [
    "enconder_label = LabelEncoder()\n",
    "dataset_final['nivel_resultado'] = enconder_label.fit_transform(dataset_final['nivel_resultado'])\n",
    "list(enconder_label.classes_)"
   ],
   "metadata": {
    "collapsed": false,
    "pycharm": {
     "name": "#%%\n"
    }
   }
  },
  {
   "cell_type": "code",
   "execution_count": 315,
   "outputs": [
    {
     "data": {
      "text/plain": "      edad  nivel_resultado  genero_FEMENINO  genero_MASCULINO  \\\n0       56                1              1.0               0.0   \n1       41                1              1.0               0.0   \n2       31                0              1.0               0.0   \n3       18                1              1.0               0.0   \n4       31                1              0.0               1.0   \n...    ...              ...              ...               ...   \n7033    39                0              1.0               0.0   \n7034    16                0              0.0               1.0   \n7035    18                0              1.0               0.0   \n7036    41                0              0.0               1.0   \n7037    17                0              1.0               0.0   \n\n      trastorno_bipolar_NO  trastorno_bipolar_SI  trastorno_depresion_NO  \\\n0                      0.0                   1.0                     1.0   \n1                      0.0                   1.0                     0.0   \n2                      1.0                   0.0                     0.0   \n3                      0.0                   1.0                     0.0   \n4                      1.0                   0.0                     0.0   \n...                    ...                   ...                     ...   \n7033                   1.0                   0.0                     0.0   \n7034                   1.0                   0.0                     0.0   \n7035                   1.0                   0.0                     1.0   \n7036                   1.0                   0.0                     0.0   \n7037                   1.0                   0.0                     0.0   \n\n      trastorno_depresion_SI  trastorno_consumo_suntancia_NO  \\\n0                        0.0                             1.0   \n1                        1.0                             1.0   \n2                        1.0                             1.0   \n3                        1.0                             1.0   \n4                        1.0                             1.0   \n...                      ...                             ...   \n7033                     1.0                             1.0   \n7034                     1.0                             1.0   \n7035                     0.0                             0.0   \n7036                     1.0                             1.0   \n7037                     1.0                             1.0   \n\n      trastorno_consumo_suntancia_SI  ...  conducta_autolesiva_NO  \\\n0                                0.0  ...                     1.0   \n1                                0.0  ...                     1.0   \n2                                0.0  ...                     1.0   \n3                                0.0  ...                     1.0   \n4                                0.0  ...                     1.0   \n...                              ...  ...                     ...   \n7033                             0.0  ...                     0.0   \n7034                             0.0  ...                     1.0   \n7035                             1.0  ...                     1.0   \n7036                             0.0  ...                     1.0   \n7037                             0.0  ...                     1.0   \n\n      conducta_autolesiva_SI  inestabilidad_emocional_NO  \\\n0                        0.0                         0.0   \n1                        0.0                         0.0   \n2                        0.0                         1.0   \n3                        0.0                         1.0   \n4                        0.0                         0.0   \n...                      ...                         ...   \n7033                     1.0                         0.0   \n7034                     0.0                         1.0   \n7035                     0.0                         0.0   \n7036                     0.0                         0.0   \n7037                     0.0                         1.0   \n\n      inestabilidad_emocional_SI  sensacion_vacio_NO  sensacion_vacio_SI  \\\n0                            1.0                 1.0                 0.0   \n1                            1.0                 1.0                 0.0   \n2                            0.0                 1.0                 0.0   \n3                            0.0                 1.0                 0.0   \n4                            1.0                 1.0                 0.0   \n...                          ...                 ...                 ...   \n7033                         1.0                 0.0                 1.0   \n7034                         0.0                 1.0                 0.0   \n7035                         1.0                 0.0                 1.0   \n7036                         1.0                 0.0                 1.0   \n7037                         0.0                 1.0                 0.0   \n\n      ira_inapropiada_NO  ira_inapropiada_SI  disociacion_NO  disociacion_SI  \n0                    0.0                 1.0             1.0             0.0  \n1                    0.0                 1.0             1.0             0.0  \n2                    0.0                 1.0             1.0             0.0  \n3                    0.0                 1.0             1.0             0.0  \n4                    0.0                 1.0             1.0             0.0  \n...                  ...                 ...             ...             ...  \n7033                 0.0                 1.0             1.0             0.0  \n7034                 0.0                 1.0             1.0             0.0  \n7035                 0.0                 1.0             1.0             0.0  \n7036                 0.0                 1.0             1.0             0.0  \n7037                 0.0                 1.0             1.0             0.0  \n\n[7038 rows x 28 columns]",
      "text/html": "<div>\n<style scoped>\n    .dataframe tbody tr th:only-of-type {\n        vertical-align: middle;\n    }\n\n    .dataframe tbody tr th {\n        vertical-align: top;\n    }\n\n    .dataframe thead th {\n        text-align: right;\n    }\n</style>\n<table border=\"1\" class=\"dataframe\">\n  <thead>\n    <tr style=\"text-align: right;\">\n      <th></th>\n      <th>edad</th>\n      <th>nivel_resultado</th>\n      <th>genero_FEMENINO</th>\n      <th>genero_MASCULINO</th>\n      <th>trastorno_bipolar_NO</th>\n      <th>trastorno_bipolar_SI</th>\n      <th>trastorno_depresion_NO</th>\n      <th>trastorno_depresion_SI</th>\n      <th>trastorno_consumo_suntancia_NO</th>\n      <th>trastorno_consumo_suntancia_SI</th>\n      <th>...</th>\n      <th>conducta_autolesiva_NO</th>\n      <th>conducta_autolesiva_SI</th>\n      <th>inestabilidad_emocional_NO</th>\n      <th>inestabilidad_emocional_SI</th>\n      <th>sensacion_vacio_NO</th>\n      <th>sensacion_vacio_SI</th>\n      <th>ira_inapropiada_NO</th>\n      <th>ira_inapropiada_SI</th>\n      <th>disociacion_NO</th>\n      <th>disociacion_SI</th>\n    </tr>\n  </thead>\n  <tbody>\n    <tr>\n      <th>0</th>\n      <td>56</td>\n      <td>1</td>\n      <td>1.0</td>\n      <td>0.0</td>\n      <td>0.0</td>\n      <td>1.0</td>\n      <td>1.0</td>\n      <td>0.0</td>\n      <td>1.0</td>\n      <td>0.0</td>\n      <td>...</td>\n      <td>1.0</td>\n      <td>0.0</td>\n      <td>0.0</td>\n      <td>1.0</td>\n      <td>1.0</td>\n      <td>0.0</td>\n      <td>0.0</td>\n      <td>1.0</td>\n      <td>1.0</td>\n      <td>0.0</td>\n    </tr>\n    <tr>\n      <th>1</th>\n      <td>41</td>\n      <td>1</td>\n      <td>1.0</td>\n      <td>0.0</td>\n      <td>0.0</td>\n      <td>1.0</td>\n      <td>0.0</td>\n      <td>1.0</td>\n      <td>1.0</td>\n      <td>0.0</td>\n      <td>...</td>\n      <td>1.0</td>\n      <td>0.0</td>\n      <td>0.0</td>\n      <td>1.0</td>\n      <td>1.0</td>\n      <td>0.0</td>\n      <td>0.0</td>\n      <td>1.0</td>\n      <td>1.0</td>\n      <td>0.0</td>\n    </tr>\n    <tr>\n      <th>2</th>\n      <td>31</td>\n      <td>0</td>\n      <td>1.0</td>\n      <td>0.0</td>\n      <td>1.0</td>\n      <td>0.0</td>\n      <td>0.0</td>\n      <td>1.0</td>\n      <td>1.0</td>\n      <td>0.0</td>\n      <td>...</td>\n      <td>1.0</td>\n      <td>0.0</td>\n      <td>1.0</td>\n      <td>0.0</td>\n      <td>1.0</td>\n      <td>0.0</td>\n      <td>0.0</td>\n      <td>1.0</td>\n      <td>1.0</td>\n      <td>0.0</td>\n    </tr>\n    <tr>\n      <th>3</th>\n      <td>18</td>\n      <td>1</td>\n      <td>1.0</td>\n      <td>0.0</td>\n      <td>0.0</td>\n      <td>1.0</td>\n      <td>0.0</td>\n      <td>1.0</td>\n      <td>1.0</td>\n      <td>0.0</td>\n      <td>...</td>\n      <td>1.0</td>\n      <td>0.0</td>\n      <td>1.0</td>\n      <td>0.0</td>\n      <td>1.0</td>\n      <td>0.0</td>\n      <td>0.0</td>\n      <td>1.0</td>\n      <td>1.0</td>\n      <td>0.0</td>\n    </tr>\n    <tr>\n      <th>4</th>\n      <td>31</td>\n      <td>1</td>\n      <td>0.0</td>\n      <td>1.0</td>\n      <td>1.0</td>\n      <td>0.0</td>\n      <td>0.0</td>\n      <td>1.0</td>\n      <td>1.0</td>\n      <td>0.0</td>\n      <td>...</td>\n      <td>1.0</td>\n      <td>0.0</td>\n      <td>0.0</td>\n      <td>1.0</td>\n      <td>1.0</td>\n      <td>0.0</td>\n      <td>0.0</td>\n      <td>1.0</td>\n      <td>1.0</td>\n      <td>0.0</td>\n    </tr>\n    <tr>\n      <th>...</th>\n      <td>...</td>\n      <td>...</td>\n      <td>...</td>\n      <td>...</td>\n      <td>...</td>\n      <td>...</td>\n      <td>...</td>\n      <td>...</td>\n      <td>...</td>\n      <td>...</td>\n      <td>...</td>\n      <td>...</td>\n      <td>...</td>\n      <td>...</td>\n      <td>...</td>\n      <td>...</td>\n      <td>...</td>\n      <td>...</td>\n      <td>...</td>\n      <td>...</td>\n      <td>...</td>\n    </tr>\n    <tr>\n      <th>7033</th>\n      <td>39</td>\n      <td>0</td>\n      <td>1.0</td>\n      <td>0.0</td>\n      <td>1.0</td>\n      <td>0.0</td>\n      <td>0.0</td>\n      <td>1.0</td>\n      <td>1.0</td>\n      <td>0.0</td>\n      <td>...</td>\n      <td>0.0</td>\n      <td>1.0</td>\n      <td>0.0</td>\n      <td>1.0</td>\n      <td>0.0</td>\n      <td>1.0</td>\n      <td>0.0</td>\n      <td>1.0</td>\n      <td>1.0</td>\n      <td>0.0</td>\n    </tr>\n    <tr>\n      <th>7034</th>\n      <td>16</td>\n      <td>0</td>\n      <td>0.0</td>\n      <td>1.0</td>\n      <td>1.0</td>\n      <td>0.0</td>\n      <td>0.0</td>\n      <td>1.0</td>\n      <td>1.0</td>\n      <td>0.0</td>\n      <td>...</td>\n      <td>1.0</td>\n      <td>0.0</td>\n      <td>1.0</td>\n      <td>0.0</td>\n      <td>1.0</td>\n      <td>0.0</td>\n      <td>0.0</td>\n      <td>1.0</td>\n      <td>1.0</td>\n      <td>0.0</td>\n    </tr>\n    <tr>\n      <th>7035</th>\n      <td>18</td>\n      <td>0</td>\n      <td>1.0</td>\n      <td>0.0</td>\n      <td>1.0</td>\n      <td>0.0</td>\n      <td>1.0</td>\n      <td>0.0</td>\n      <td>0.0</td>\n      <td>1.0</td>\n      <td>...</td>\n      <td>1.0</td>\n      <td>0.0</td>\n      <td>0.0</td>\n      <td>1.0</td>\n      <td>0.0</td>\n      <td>1.0</td>\n      <td>0.0</td>\n      <td>1.0</td>\n      <td>1.0</td>\n      <td>0.0</td>\n    </tr>\n    <tr>\n      <th>7036</th>\n      <td>41</td>\n      <td>0</td>\n      <td>0.0</td>\n      <td>1.0</td>\n      <td>1.0</td>\n      <td>0.0</td>\n      <td>0.0</td>\n      <td>1.0</td>\n      <td>1.0</td>\n      <td>0.0</td>\n      <td>...</td>\n      <td>1.0</td>\n      <td>0.0</td>\n      <td>0.0</td>\n      <td>1.0</td>\n      <td>0.0</td>\n      <td>1.0</td>\n      <td>0.0</td>\n      <td>1.0</td>\n      <td>1.0</td>\n      <td>0.0</td>\n    </tr>\n    <tr>\n      <th>7037</th>\n      <td>17</td>\n      <td>0</td>\n      <td>1.0</td>\n      <td>0.0</td>\n      <td>1.0</td>\n      <td>0.0</td>\n      <td>0.0</td>\n      <td>1.0</td>\n      <td>1.0</td>\n      <td>0.0</td>\n      <td>...</td>\n      <td>1.0</td>\n      <td>0.0</td>\n      <td>1.0</td>\n      <td>0.0</td>\n      <td>1.0</td>\n      <td>0.0</td>\n      <td>0.0</td>\n      <td>1.0</td>\n      <td>1.0</td>\n      <td>0.0</td>\n    </tr>\n  </tbody>\n</table>\n<p>7038 rows × 28 columns</p>\n</div>"
     },
     "execution_count": 315,
     "metadata": {},
     "output_type": "execute_result"
    }
   ],
   "source": [
    "dataset_final"
   ],
   "metadata": {
    "collapsed": false,
    "pycharm": {
     "name": "#%%\n"
    }
   }
  },
  {
   "cell_type": "markdown",
   "source": [
    "DATOS ENTRENAMIENTO Y PRUEBA"
   ],
   "metadata": {
    "collapsed": false
   }
  },
  {
   "cell_type": "code",
   "execution_count": 316,
   "outputs": [],
   "source": [
    "from sklearn.model_selection import train_test_split"
   ],
   "metadata": {
    "collapsed": false,
    "pycharm": {
     "name": "#%%\n"
    }
   }
  },
  {
   "cell_type": "code",
   "execution_count": 317,
   "outputs": [],
   "source": [
    "X_train, X_test, y_train, y_test = train_test_split(dataset_final.drop('nivel_resultado', axis=1),\n",
    "                                                    dataset_final['nivel_resultado'],\n",
    "                                                    test_size=0.30,\n",
    "                                                    random_state=100,\n",
    "                                                    stratify=dataset_final['nivel_resultado'])"
   ],
   "metadata": {
    "collapsed": false,
    "pycharm": {
     "name": "#%%\n"
    }
   }
  },
  {
   "cell_type": "markdown",
   "source": [
    "ALGORITMOS"
   ],
   "metadata": {
    "collapsed": false
   }
  },
  {
   "cell_type": "code",
   "execution_count": 318,
   "outputs": [],
   "source": [
    "from sklearn.tree import DecisionTreeClassifier"
   ],
   "metadata": {
    "collapsed": false,
    "pycharm": {
     "name": "#%%\n"
    }
   }
  },
  {
   "cell_type": "code",
   "execution_count": 319,
   "outputs": [
    {
     "data": {
      "text/plain": "DecisionTreeClassifier(class_weight='balanced', max_depth=10, random_state=100)",
      "text/html": "<style>#sk-container-id-20 {\n  /* Definition of color scheme common for light and dark mode */\n  --sklearn-color-text: black;\n  --sklearn-color-line: gray;\n  /* Definition of color scheme for unfitted estimators */\n  --sklearn-color-unfitted-level-0: #fff5e6;\n  --sklearn-color-unfitted-level-1: #f6e4d2;\n  --sklearn-color-unfitted-level-2: #ffe0b3;\n  --sklearn-color-unfitted-level-3: chocolate;\n  /* Definition of color scheme for fitted estimators */\n  --sklearn-color-fitted-level-0: #f0f8ff;\n  --sklearn-color-fitted-level-1: #d4ebff;\n  --sklearn-color-fitted-level-2: #b3dbfd;\n  --sklearn-color-fitted-level-3: cornflowerblue;\n\n  /* Specific color for light theme */\n  --sklearn-color-text-on-default-background: var(--sg-text-color, var(--theme-code-foreground, var(--jp-content-font-color1, black)));\n  --sklearn-color-background: var(--sg-background-color, var(--theme-background, var(--jp-layout-color0, white)));\n  --sklearn-color-border-box: var(--sg-text-color, var(--theme-code-foreground, var(--jp-content-font-color1, black)));\n  --sklearn-color-icon: #696969;\n\n  @media (prefers-color-scheme: dark) {\n    /* Redefinition of color scheme for dark theme */\n    --sklearn-color-text-on-default-background: var(--sg-text-color, var(--theme-code-foreground, var(--jp-content-font-color1, white)));\n    --sklearn-color-background: var(--sg-background-color, var(--theme-background, var(--jp-layout-color0, #111)));\n    --sklearn-color-border-box: var(--sg-text-color, var(--theme-code-foreground, var(--jp-content-font-color1, white)));\n    --sklearn-color-icon: #878787;\n  }\n}\n\n#sk-container-id-20 {\n  color: var(--sklearn-color-text);\n}\n\n#sk-container-id-20 pre {\n  padding: 0;\n}\n\n#sk-container-id-20 input.sk-hidden--visually {\n  border: 0;\n  clip: rect(1px 1px 1px 1px);\n  clip: rect(1px, 1px, 1px, 1px);\n  height: 1px;\n  margin: -1px;\n  overflow: hidden;\n  padding: 0;\n  position: absolute;\n  width: 1px;\n}\n\n#sk-container-id-20 div.sk-dashed-wrapped {\n  border: 1px dashed var(--sklearn-color-line);\n  margin: 0 0.4em 0.5em 0.4em;\n  box-sizing: border-box;\n  padding-bottom: 0.4em;\n  background-color: var(--sklearn-color-background);\n}\n\n#sk-container-id-20 div.sk-container {\n  /* jupyter's `normalize.less` sets `[hidden] { display: none; }`\n     but bootstrap.min.css set `[hidden] { display: none !important; }`\n     so we also need the `!important` here to be able to override the\n     default hidden behavior on the sphinx rendered scikit-learn.org.\n     See: https://github.com/scikit-learn/scikit-learn/issues/21755 */\n  display: inline-block !important;\n  position: relative;\n}\n\n#sk-container-id-20 div.sk-text-repr-fallback {\n  display: none;\n}\n\ndiv.sk-parallel-item,\ndiv.sk-serial,\ndiv.sk-item {\n  /* draw centered vertical line to link estimators */\n  background-image: linear-gradient(var(--sklearn-color-text-on-default-background), var(--sklearn-color-text-on-default-background));\n  background-size: 2px 100%;\n  background-repeat: no-repeat;\n  background-position: center center;\n}\n\n/* Parallel-specific style estimator block */\n\n#sk-container-id-20 div.sk-parallel-item::after {\n  content: \"\";\n  width: 100%;\n  border-bottom: 2px solid var(--sklearn-color-text-on-default-background);\n  flex-grow: 1;\n}\n\n#sk-container-id-20 div.sk-parallel {\n  display: flex;\n  align-items: stretch;\n  justify-content: center;\n  background-color: var(--sklearn-color-background);\n  position: relative;\n}\n\n#sk-container-id-20 div.sk-parallel-item {\n  display: flex;\n  flex-direction: column;\n}\n\n#sk-container-id-20 div.sk-parallel-item:first-child::after {\n  align-self: flex-end;\n  width: 50%;\n}\n\n#sk-container-id-20 div.sk-parallel-item:last-child::after {\n  align-self: flex-start;\n  width: 50%;\n}\n\n#sk-container-id-20 div.sk-parallel-item:only-child::after {\n  width: 0;\n}\n\n/* Serial-specific style estimator block */\n\n#sk-container-id-20 div.sk-serial {\n  display: flex;\n  flex-direction: column;\n  align-items: center;\n  background-color: var(--sklearn-color-background);\n  padding-right: 1em;\n  padding-left: 1em;\n}\n\n\n/* Toggleable style: style used for estimator/Pipeline/ColumnTransformer box that is\nclickable and can be expanded/collapsed.\n- Pipeline and ColumnTransformer use this feature and define the default style\n- Estimators will overwrite some part of the style using the `sk-estimator` class\n*/\n\n/* Pipeline and ColumnTransformer style (default) */\n\n#sk-container-id-20 div.sk-toggleable {\n  /* Default theme specific background. It is overwritten whether we have a\n  specific estimator or a Pipeline/ColumnTransformer */\n  background-color: var(--sklearn-color-background);\n}\n\n/* Toggleable label */\n#sk-container-id-20 label.sk-toggleable__label {\n  cursor: pointer;\n  display: block;\n  width: 100%;\n  margin-bottom: 0;\n  padding: 0.5em;\n  box-sizing: border-box;\n  text-align: center;\n}\n\n#sk-container-id-20 label.sk-toggleable__label-arrow:before {\n  /* Arrow on the left of the label */\n  content: \"▸\";\n  float: left;\n  margin-right: 0.25em;\n  color: var(--sklearn-color-icon);\n}\n\n#sk-container-id-20 label.sk-toggleable__label-arrow:hover:before {\n  color: var(--sklearn-color-text);\n}\n\n/* Toggleable content - dropdown */\n\n#sk-container-id-20 div.sk-toggleable__content {\n  max-height: 0;\n  max-width: 0;\n  overflow: hidden;\n  text-align: left;\n  /* unfitted */\n  background-color: var(--sklearn-color-unfitted-level-0);\n}\n\n#sk-container-id-20 div.sk-toggleable__content.fitted {\n  /* fitted */\n  background-color: var(--sklearn-color-fitted-level-0);\n}\n\n#sk-container-id-20 div.sk-toggleable__content pre {\n  margin: 0.2em;\n  border-radius: 0.25em;\n  color: var(--sklearn-color-text);\n  /* unfitted */\n  background-color: var(--sklearn-color-unfitted-level-0);\n}\n\n#sk-container-id-20 div.sk-toggleable__content.fitted pre {\n  /* unfitted */\n  background-color: var(--sklearn-color-fitted-level-0);\n}\n\n#sk-container-id-20 input.sk-toggleable__control:checked~div.sk-toggleable__content {\n  /* Expand drop-down */\n  max-height: 200px;\n  max-width: 100%;\n  overflow: auto;\n}\n\n#sk-container-id-20 input.sk-toggleable__control:checked~label.sk-toggleable__label-arrow:before {\n  content: \"▾\";\n}\n\n/* Pipeline/ColumnTransformer-specific style */\n\n#sk-container-id-20 div.sk-label input.sk-toggleable__control:checked~label.sk-toggleable__label {\n  color: var(--sklearn-color-text);\n  background-color: var(--sklearn-color-unfitted-level-2);\n}\n\n#sk-container-id-20 div.sk-label.fitted input.sk-toggleable__control:checked~label.sk-toggleable__label {\n  background-color: var(--sklearn-color-fitted-level-2);\n}\n\n/* Estimator-specific style */\n\n/* Colorize estimator box */\n#sk-container-id-20 div.sk-estimator input.sk-toggleable__control:checked~label.sk-toggleable__label {\n  /* unfitted */\n  background-color: var(--sklearn-color-unfitted-level-2);\n}\n\n#sk-container-id-20 div.sk-estimator.fitted input.sk-toggleable__control:checked~label.sk-toggleable__label {\n  /* fitted */\n  background-color: var(--sklearn-color-fitted-level-2);\n}\n\n#sk-container-id-20 div.sk-label label.sk-toggleable__label,\n#sk-container-id-20 div.sk-label label {\n  /* The background is the default theme color */\n  color: var(--sklearn-color-text-on-default-background);\n}\n\n/* On hover, darken the color of the background */\n#sk-container-id-20 div.sk-label:hover label.sk-toggleable__label {\n  color: var(--sklearn-color-text);\n  background-color: var(--sklearn-color-unfitted-level-2);\n}\n\n/* Label box, darken color on hover, fitted */\n#sk-container-id-20 div.sk-label.fitted:hover label.sk-toggleable__label.fitted {\n  color: var(--sklearn-color-text);\n  background-color: var(--sklearn-color-fitted-level-2);\n}\n\n/* Estimator label */\n\n#sk-container-id-20 div.sk-label label {\n  font-family: monospace;\n  font-weight: bold;\n  display: inline-block;\n  line-height: 1.2em;\n}\n\n#sk-container-id-20 div.sk-label-container {\n  text-align: center;\n}\n\n/* Estimator-specific */\n#sk-container-id-20 div.sk-estimator {\n  font-family: monospace;\n  border: 1px dotted var(--sklearn-color-border-box);\n  border-radius: 0.25em;\n  box-sizing: border-box;\n  margin-bottom: 0.5em;\n  /* unfitted */\n  background-color: var(--sklearn-color-unfitted-level-0);\n}\n\n#sk-container-id-20 div.sk-estimator.fitted {\n  /* fitted */\n  background-color: var(--sklearn-color-fitted-level-0);\n}\n\n/* on hover */\n#sk-container-id-20 div.sk-estimator:hover {\n  /* unfitted */\n  background-color: var(--sklearn-color-unfitted-level-2);\n}\n\n#sk-container-id-20 div.sk-estimator.fitted:hover {\n  /* fitted */\n  background-color: var(--sklearn-color-fitted-level-2);\n}\n\n/* Specification for estimator info (e.g. \"i\" and \"?\") */\n\n/* Common style for \"i\" and \"?\" */\n\n.sk-estimator-doc-link,\na:link.sk-estimator-doc-link,\na:visited.sk-estimator-doc-link {\n  float: right;\n  font-size: smaller;\n  line-height: 1em;\n  font-family: monospace;\n  background-color: var(--sklearn-color-background);\n  border-radius: 1em;\n  height: 1em;\n  width: 1em;\n  text-decoration: none !important;\n  margin-left: 1ex;\n  /* unfitted */\n  border: var(--sklearn-color-unfitted-level-1) 1pt solid;\n  color: var(--sklearn-color-unfitted-level-1);\n}\n\n.sk-estimator-doc-link.fitted,\na:link.sk-estimator-doc-link.fitted,\na:visited.sk-estimator-doc-link.fitted {\n  /* fitted */\n  border: var(--sklearn-color-fitted-level-1) 1pt solid;\n  color: var(--sklearn-color-fitted-level-1);\n}\n\n/* On hover */\ndiv.sk-estimator:hover .sk-estimator-doc-link:hover,\n.sk-estimator-doc-link:hover,\ndiv.sk-label-container:hover .sk-estimator-doc-link:hover,\n.sk-estimator-doc-link:hover {\n  /* unfitted */\n  background-color: var(--sklearn-color-unfitted-level-3);\n  color: var(--sklearn-color-background);\n  text-decoration: none;\n}\n\ndiv.sk-estimator.fitted:hover .sk-estimator-doc-link.fitted:hover,\n.sk-estimator-doc-link.fitted:hover,\ndiv.sk-label-container:hover .sk-estimator-doc-link.fitted:hover,\n.sk-estimator-doc-link.fitted:hover {\n  /* fitted */\n  background-color: var(--sklearn-color-fitted-level-3);\n  color: var(--sklearn-color-background);\n  text-decoration: none;\n}\n\n/* Span, style for the box shown on hovering the info icon */\n.sk-estimator-doc-link span {\n  display: none;\n  z-index: 9999;\n  position: relative;\n  font-weight: normal;\n  right: .2ex;\n  padding: .5ex;\n  margin: .5ex;\n  width: min-content;\n  min-width: 20ex;\n  max-width: 50ex;\n  color: var(--sklearn-color-text);\n  box-shadow: 2pt 2pt 4pt #999;\n  /* unfitted */\n  background: var(--sklearn-color-unfitted-level-0);\n  border: .5pt solid var(--sklearn-color-unfitted-level-3);\n}\n\n.sk-estimator-doc-link.fitted span {\n  /* fitted */\n  background: var(--sklearn-color-fitted-level-0);\n  border: var(--sklearn-color-fitted-level-3);\n}\n\n.sk-estimator-doc-link:hover span {\n  display: block;\n}\n\n/* \"?\"-specific style due to the `<a>` HTML tag */\n\n#sk-container-id-20 a.estimator_doc_link {\n  float: right;\n  font-size: 1rem;\n  line-height: 1em;\n  font-family: monospace;\n  background-color: var(--sklearn-color-background);\n  border-radius: 1rem;\n  height: 1rem;\n  width: 1rem;\n  text-decoration: none;\n  /* unfitted */\n  color: var(--sklearn-color-unfitted-level-1);\n  border: var(--sklearn-color-unfitted-level-1) 1pt solid;\n}\n\n#sk-container-id-20 a.estimator_doc_link.fitted {\n  /* fitted */\n  border: var(--sklearn-color-fitted-level-1) 1pt solid;\n  color: var(--sklearn-color-fitted-level-1);\n}\n\n/* On hover */\n#sk-container-id-20 a.estimator_doc_link:hover {\n  /* unfitted */\n  background-color: var(--sklearn-color-unfitted-level-3);\n  color: var(--sklearn-color-background);\n  text-decoration: none;\n}\n\n#sk-container-id-20 a.estimator_doc_link.fitted:hover {\n  /* fitted */\n  background-color: var(--sklearn-color-fitted-level-3);\n}\n</style><div id=\"sk-container-id-20\" class=\"sk-top-container\"><div class=\"sk-text-repr-fallback\"><pre>DecisionTreeClassifier(class_weight=&#x27;balanced&#x27;, max_depth=10, random_state=100)</pre><b>In a Jupyter environment, please rerun this cell to show the HTML representation or trust the notebook. <br />On GitHub, the HTML representation is unable to render, please try loading this page with nbviewer.org.</b></div><div class=\"sk-container\" hidden><div class=\"sk-item\"><div class=\"sk-estimator fitted sk-toggleable\"><input class=\"sk-toggleable__control sk-hidden--visually\" id=\"sk-estimator-id-20\" type=\"checkbox\" checked><label for=\"sk-estimator-id-20\" class=\"sk-toggleable__label fitted sk-toggleable__label-arrow fitted\">&nbsp;&nbsp;DecisionTreeClassifier<a class=\"sk-estimator-doc-link fitted\" rel=\"noreferrer\" target=\"_blank\" href=\"https://scikit-learn.org/1.5/modules/generated/sklearn.tree.DecisionTreeClassifier.html\">?<span>Documentation for DecisionTreeClassifier</span></a><span class=\"sk-estimator-doc-link fitted\">i<span>Fitted</span></span></label><div class=\"sk-toggleable__content fitted\"><pre>DecisionTreeClassifier(class_weight=&#x27;balanced&#x27;, max_depth=10, random_state=100)</pre></div> </div></div></div></div>"
     },
     "execution_count": 319,
     "metadata": {},
     "output_type": "execute_result"
    }
   ],
   "source": [
    "model_tree = DecisionTreeClassifier(criterion='gini',\n",
    "                                    max_depth=10,\n",
    "                                    class_weight='balanced',\n",
    "                                    random_state=100)\n",
    "model_tree.fit(X_train, y_train)"
   ],
   "metadata": {
    "collapsed": false,
    "pycharm": {
     "name": "#%%\n"
    }
   }
  },
  {
   "cell_type": "code",
   "execution_count": 320,
   "outputs": [],
   "source": [
    "y_test_predict = model_tree.predict(X_test)"
   ],
   "metadata": {
    "collapsed": false,
    "pycharm": {
     "name": "#%%\n"
    }
   }
  },
  {
   "cell_type": "code",
   "execution_count": 321,
   "outputs": [],
   "source": [
    "from sklearn.metrics import confusion_matrix, accuracy_score, precision_score, recall_score"
   ],
   "metadata": {
    "collapsed": false,
    "pycharm": {
     "name": "#%%\n"
    }
   }
  },
  {
   "cell_type": "code",
   "execution_count": 322,
   "outputs": [
    {
     "data": {
      "text/plain": "array([[1024,   32],\n       [  40, 1016]])"
     },
     "execution_count": 322,
     "metadata": {},
     "output_type": "execute_result"
    }
   ],
   "source": [
    "matrix = confusion_matrix(y_true=y_test, y_pred=y_test_predict)\n",
    "matrix"
   ],
   "metadata": {
    "collapsed": false,
    "pycharm": {
     "name": "#%%\n"
    }
   }
  },
  {
   "cell_type": "code",
   "execution_count": 323,
   "outputs": [
    {
     "name": "stdout",
     "output_type": "stream",
     "text": [
      "##########################################################\n",
      "                 ARBOL DE DECISIONES\n",
      "##########################################################\n",
      "# Indica que tan preciso es nuestro modelo, referente a positivas como negativas.\n",
      "Accuracy: Test\n",
      "0.9659090909090909\n",
      "##########################################################\n",
      "# Indica que tan preciso es nuestro modelo de manera sobre todas las predicciones positivas\n",
      "Precision: Test\n",
      "0.9694656488549618\n",
      "##########################################################\n",
      "# Indica que tan preciso es nuestro modelo al predicir los verdaderos positivos\n",
      "Sensibilidad: Test\n",
      "0.9621212121212122\n",
      "##########################################################\n",
      "# Indica que tan preciso es nuestro modelo al predecir los verdaderos negativos\n",
      "Especificidad: Test\n",
      "0.9696969696969697\n",
      "##########################################################\n"
     ]
    }
   ],
   "source": [
    "#### ? VISUALIZACIOMOS LAS METRICAS CORRESPONDIENTES\n",
    "print('##########################################################')\n",
    "print('                 ARBOL DE DECISIONES')\n",
    "print('##########################################################')\n",
    "print('# Indica que tan preciso es nuestro modelo, referente a positivas como negativas.')\n",
    "print(\"Accuracy: Test\")\n",
    "accuracy_test = accuracy_score(y_test, y_test_predict)\n",
    "print(accuracy_test)\n",
    "\n",
    "print('##########################################################')\n",
    "print('# Indica que tan preciso es nuestro modelo de manera sobre todas las predicciones positivas')\n",
    "print(\"Precision: Test\")\n",
    "precision_test = precision_score(y_test, y_test_predict)\n",
    "print(precision_test)\n",
    "\n",
    "print('##########################################################')\n",
    "print('# Indica que tan preciso es nuestro modelo al predicir los verdaderos positivos')\n",
    "print(\"Sensibilidad: Test\")\n",
    "recall_test = recall_score(y_test, y_test_predict)\n",
    "print(recall_test)\n",
    "print('##########################################################')\n",
    "print('# Indica que tan preciso es nuestro modelo al predecir los verdaderos negativos')\n",
    "tn, fp, fn, tp = matrix.ravel()\n",
    "print(\"Especificidad: Test\")\n",
    "print(tn / (tn + fp))\n",
    "print('##########################################################')"
   ],
   "metadata": {
    "collapsed": false,
    "pycharm": {
     "name": "#%%\n"
    }
   }
  }
 ],
 "metadata": {
  "kernelspec": {
   "display_name": "Python 3",
   "language": "python",
   "name": "python3"
  },
  "language_info": {
   "codemirror_mode": {
    "name": "ipython",
    "version": 2
   },
   "file_extension": ".py",
   "mimetype": "text/x-python",
   "name": "python",
   "nbconvert_exporter": "python",
   "pygments_lexer": "ipython2",
   "version": "2.7.6"
  }
 },
 "nbformat": 4,
 "nbformat_minor": 0
}