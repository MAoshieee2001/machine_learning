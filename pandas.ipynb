{
 "cells": [
  {
   "cell_type": "code",
   "execution_count": 33,
   "outputs": [],
   "source": [
    "import pandas as pd"
   ],
   "metadata": {
    "collapsed": false,
    "pycharm": {
     "name": "#%%\n"
    }
   }
  },
  {
   "cell_type": "code",
   "execution_count": 34,
   "metadata": {
    "collapsed": true
   },
   "outputs": [],
   "source": [
    "array_personas = [\n",
    "    ['Moises Marin Tantalean', 23, 1.70, 89.25, 0, 'Estudiante', 'Masculino', 'Mestizo', 0, ],\n",
    "    ['Maricielo Marin Tantalean', 22, 1.66, 70.35, 0, 'Profesional', 'Femenino', 'Blanco', 1025, ],\n",
    "    ['Nancy Tantalean Cabrales', 53, 1.64, 80.26, 2, 'Profesional', 'Femenino', 'Mulata', 4000.25, ],\n",
    "    ['Moises Marin Aguilar', 58, 1.69, 73.22, 2, 'Profesional', 'Masculino', 'Mestizo', 2000.25, ],\n",
    "]"
   ]
  },
  {
   "cell_type": "code",
   "execution_count": 35,
   "outputs": [
    {
     "data": {
      "text/plain": "                     nombres  edad  altura   peso  n_hijos       perfil  \\\n0     Moises Marin Tantalean    23    1.70  89.25        0   Estudiante   \n1  Maricielo Marin Tantalean    22    1.66  70.35        0  Profesional   \n2   Nancy Tantalean Cabrales    53    1.64  80.26        2  Profesional   \n3       Moises Marin Aguilar    58    1.69  73.22        2  Profesional   \n\n      genero    etnia  ingreso  \n0  Masculino  Mestizo     0.00  \n1   Femenino   Blanco  1025.00  \n2   Femenino   Mulata  4000.25  \n3  Masculino  Mestizo  2000.25  ",
      "text/html": "<div>\n<style scoped>\n    .dataframe tbody tr th:only-of-type {\n        vertical-align: middle;\n    }\n\n    .dataframe tbody tr th {\n        vertical-align: top;\n    }\n\n    .dataframe thead th {\n        text-align: right;\n    }\n</style>\n<table border=\"1\" class=\"dataframe\">\n  <thead>\n    <tr style=\"text-align: right;\">\n      <th></th>\n      <th>nombres</th>\n      <th>edad</th>\n      <th>altura</th>\n      <th>peso</th>\n      <th>n_hijos</th>\n      <th>perfil</th>\n      <th>genero</th>\n      <th>etnia</th>\n      <th>ingreso</th>\n    </tr>\n  </thead>\n  <tbody>\n    <tr>\n      <th>0</th>\n      <td>Moises Marin Tantalean</td>\n      <td>23</td>\n      <td>1.70</td>\n      <td>89.25</td>\n      <td>0</td>\n      <td>Estudiante</td>\n      <td>Masculino</td>\n      <td>Mestizo</td>\n      <td>0.00</td>\n    </tr>\n    <tr>\n      <th>1</th>\n      <td>Maricielo Marin Tantalean</td>\n      <td>22</td>\n      <td>1.66</td>\n      <td>70.35</td>\n      <td>0</td>\n      <td>Profesional</td>\n      <td>Femenino</td>\n      <td>Blanco</td>\n      <td>1025.00</td>\n    </tr>\n    <tr>\n      <th>2</th>\n      <td>Nancy Tantalean Cabrales</td>\n      <td>53</td>\n      <td>1.64</td>\n      <td>80.26</td>\n      <td>2</td>\n      <td>Profesional</td>\n      <td>Femenino</td>\n      <td>Mulata</td>\n      <td>4000.25</td>\n    </tr>\n    <tr>\n      <th>3</th>\n      <td>Moises Marin Aguilar</td>\n      <td>58</td>\n      <td>1.69</td>\n      <td>73.22</td>\n      <td>2</td>\n      <td>Profesional</td>\n      <td>Masculino</td>\n      <td>Mestizo</td>\n      <td>2000.25</td>\n    </tr>\n  </tbody>\n</table>\n</div>"
     },
     "execution_count": 35,
     "metadata": {},
     "output_type": "execute_result"
    }
   ],
   "source": [
    "data = pd.DataFrame(data=array_personas, columns=['nombres', 'edad', 'altura', 'peso', 'n_hijos', 'perfil', 'genero', 'etnia', 'ingreso'])\n",
    "data"
   ],
   "metadata": {
    "collapsed": false,
    "pycharm": {
     "name": "#%%\n"
    }
   }
  },
  {
   "cell_type": "code",
   "execution_count": 36,
   "outputs": [
    {
     "data": {
      "text/plain": "RangeIndex(start=0, stop=4, step=1)"
     },
     "execution_count": 36,
     "metadata": {},
     "output_type": "execute_result"
    }
   ],
   "source": [
    "data.index"
   ],
   "metadata": {
    "collapsed": false,
    "pycharm": {
     "name": "#%%\n"
    }
   }
  },
  {
   "cell_type": "code",
   "execution_count": 37,
   "outputs": [
    {
     "data": {
      "text/plain": "                     nombres  edad  altura   peso  n_hijos       perfil  \\\n0     Moises Marin Tantalean    23    1.70  89.25        0   Estudiante   \n1  Maricielo Marin Tantalean    22    1.66  70.35        0  Profesional   \n2   Nancy Tantalean Cabrales    53    1.64  80.26        2  Profesional   \n3       Moises Marin Aguilar    58    1.69  73.22        2  Profesional   \n\n      genero    etnia  ingreso  ingreso_anual  \n0  Masculino  Mestizo     0.00            0.0  \n1   Femenino   Blanco  1025.00        12300.0  \n2   Femenino   Mulata  4000.25        48003.0  \n3  Masculino  Mestizo  2000.25        24003.0  ",
      "text/html": "<div>\n<style scoped>\n    .dataframe tbody tr th:only-of-type {\n        vertical-align: middle;\n    }\n\n    .dataframe tbody tr th {\n        vertical-align: top;\n    }\n\n    .dataframe thead th {\n        text-align: right;\n    }\n</style>\n<table border=\"1\" class=\"dataframe\">\n  <thead>\n    <tr style=\"text-align: right;\">\n      <th></th>\n      <th>nombres</th>\n      <th>edad</th>\n      <th>altura</th>\n      <th>peso</th>\n      <th>n_hijos</th>\n      <th>perfil</th>\n      <th>genero</th>\n      <th>etnia</th>\n      <th>ingreso</th>\n      <th>ingreso_anual</th>\n    </tr>\n  </thead>\n  <tbody>\n    <tr>\n      <th>0</th>\n      <td>Moises Marin Tantalean</td>\n      <td>23</td>\n      <td>1.70</td>\n      <td>89.25</td>\n      <td>0</td>\n      <td>Estudiante</td>\n      <td>Masculino</td>\n      <td>Mestizo</td>\n      <td>0.00</td>\n      <td>0.0</td>\n    </tr>\n    <tr>\n      <th>1</th>\n      <td>Maricielo Marin Tantalean</td>\n      <td>22</td>\n      <td>1.66</td>\n      <td>70.35</td>\n      <td>0</td>\n      <td>Profesional</td>\n      <td>Femenino</td>\n      <td>Blanco</td>\n      <td>1025.00</td>\n      <td>12300.0</td>\n    </tr>\n    <tr>\n      <th>2</th>\n      <td>Nancy Tantalean Cabrales</td>\n      <td>53</td>\n      <td>1.64</td>\n      <td>80.26</td>\n      <td>2</td>\n      <td>Profesional</td>\n      <td>Femenino</td>\n      <td>Mulata</td>\n      <td>4000.25</td>\n      <td>48003.0</td>\n    </tr>\n    <tr>\n      <th>3</th>\n      <td>Moises Marin Aguilar</td>\n      <td>58</td>\n      <td>1.69</td>\n      <td>73.22</td>\n      <td>2</td>\n      <td>Profesional</td>\n      <td>Masculino</td>\n      <td>Mestizo</td>\n      <td>2000.25</td>\n      <td>24003.0</td>\n    </tr>\n  </tbody>\n</table>\n</div>"
     },
     "execution_count": 37,
     "metadata": {},
     "output_type": "execute_result"
    }
   ],
   "source": [
    "data['ingreso_anual'] = data['ingreso'] * 12\n",
    "data"
   ],
   "metadata": {
    "collapsed": false,
    "pycharm": {
     "name": "#%%\n"
    }
   }
  },
  {
   "cell_type": "code",
   "execution_count": 38,
   "outputs": [
    {
     "data": {
      "text/plain": "                     nombres  edad  altura   peso  n_hijos       perfil  \\\n0     Moises Marin Tantalean    23    1.70  89.25        0   Estudiante   \n1  Maricielo Marin Tantalean    22    1.66  70.35        0  Profesional   \n2   Nancy Tantalean Cabrales    53    1.64  80.26        2  Profesional   \n3       Moises Marin Aguilar    58    1.69  73.22        2  Profesional   \n\n      genero    etnia  ingreso  ingreso_anual        imc  \n0  Masculino  Mestizo     0.00            0.0  30.882353  \n1   Femenino   Blanco  1025.00        12300.0  25.529830  \n2   Femenino   Mulata  4000.25        48003.0  29.840869  \n3  Masculino  Mestizo  2000.25        24003.0  25.636357  ",
      "text/html": "<div>\n<style scoped>\n    .dataframe tbody tr th:only-of-type {\n        vertical-align: middle;\n    }\n\n    .dataframe tbody tr th {\n        vertical-align: top;\n    }\n\n    .dataframe thead th {\n        text-align: right;\n    }\n</style>\n<table border=\"1\" class=\"dataframe\">\n  <thead>\n    <tr style=\"text-align: right;\">\n      <th></th>\n      <th>nombres</th>\n      <th>edad</th>\n      <th>altura</th>\n      <th>peso</th>\n      <th>n_hijos</th>\n      <th>perfil</th>\n      <th>genero</th>\n      <th>etnia</th>\n      <th>ingreso</th>\n      <th>ingreso_anual</th>\n      <th>imc</th>\n    </tr>\n  </thead>\n  <tbody>\n    <tr>\n      <th>0</th>\n      <td>Moises Marin Tantalean</td>\n      <td>23</td>\n      <td>1.70</td>\n      <td>89.25</td>\n      <td>0</td>\n      <td>Estudiante</td>\n      <td>Masculino</td>\n      <td>Mestizo</td>\n      <td>0.00</td>\n      <td>0.0</td>\n      <td>30.882353</td>\n    </tr>\n    <tr>\n      <th>1</th>\n      <td>Maricielo Marin Tantalean</td>\n      <td>22</td>\n      <td>1.66</td>\n      <td>70.35</td>\n      <td>0</td>\n      <td>Profesional</td>\n      <td>Femenino</td>\n      <td>Blanco</td>\n      <td>1025.00</td>\n      <td>12300.0</td>\n      <td>25.529830</td>\n    </tr>\n    <tr>\n      <th>2</th>\n      <td>Nancy Tantalean Cabrales</td>\n      <td>53</td>\n      <td>1.64</td>\n      <td>80.26</td>\n      <td>2</td>\n      <td>Profesional</td>\n      <td>Femenino</td>\n      <td>Mulata</td>\n      <td>4000.25</td>\n      <td>48003.0</td>\n      <td>29.840869</td>\n    </tr>\n    <tr>\n      <th>3</th>\n      <td>Moises Marin Aguilar</td>\n      <td>58</td>\n      <td>1.69</td>\n      <td>73.22</td>\n      <td>2</td>\n      <td>Profesional</td>\n      <td>Masculino</td>\n      <td>Mestizo</td>\n      <td>2000.25</td>\n      <td>24003.0</td>\n      <td>25.636357</td>\n    </tr>\n  </tbody>\n</table>\n</div>"
     },
     "execution_count": 38,
     "metadata": {},
     "output_type": "execute_result"
    }
   ],
   "source": [
    "data['imc'] = data['peso'] / (data['altura'] * data['altura'])\n",
    "data"
   ],
   "metadata": {
    "collapsed": false,
    "pycharm": {
     "name": "#%%\n"
    }
   }
  },
  {
   "cell_type": "code",
   "execution_count": 39,
   "outputs": [
    {
     "data": {
      "text/plain": "(0       Moises Marin Tantalean\n 1    Maricielo Marin Tantalean\n 2     Nancy Tantalean Cabrales\n 3         Moises Marin Aguilar\n Name: nombres, dtype: object,\n 0       0.00\n 1    1025.00\n 2    4000.25\n 3    2000.25\n Name: ingreso, dtype: float64)"
     },
     "execution_count": 39,
     "metadata": {},
     "output_type": "execute_result"
    }
   ],
   "source": [
    "data['nombres'], data['ingreso']"
   ],
   "metadata": {
    "collapsed": false,
    "pycharm": {
     "name": "#%%\n"
    }
   }
  },
  {
   "cell_type": "code",
   "execution_count": 40,
   "outputs": [
    {
     "data": {
      "text/plain": "                     nombres     genero\n0     Moises Marin Tantalean  Masculino\n1  Maricielo Marin Tantalean   Femenino\n2   Nancy Tantalean Cabrales   Femenino\n3       Moises Marin Aguilar  Masculino",
      "text/html": "<div>\n<style scoped>\n    .dataframe tbody tr th:only-of-type {\n        vertical-align: middle;\n    }\n\n    .dataframe tbody tr th {\n        vertical-align: top;\n    }\n\n    .dataframe thead th {\n        text-align: right;\n    }\n</style>\n<table border=\"1\" class=\"dataframe\">\n  <thead>\n    <tr style=\"text-align: right;\">\n      <th></th>\n      <th>nombres</th>\n      <th>genero</th>\n    </tr>\n  </thead>\n  <tbody>\n    <tr>\n      <th>0</th>\n      <td>Moises Marin Tantalean</td>\n      <td>Masculino</td>\n    </tr>\n    <tr>\n      <th>1</th>\n      <td>Maricielo Marin Tantalean</td>\n      <td>Femenino</td>\n    </tr>\n    <tr>\n      <th>2</th>\n      <td>Nancy Tantalean Cabrales</td>\n      <td>Femenino</td>\n    </tr>\n    <tr>\n      <th>3</th>\n      <td>Moises Marin Aguilar</td>\n      <td>Masculino</td>\n    </tr>\n  </tbody>\n</table>\n</div>"
     },
     "execution_count": 40,
     "metadata": {},
     "output_type": "execute_result"
    }
   ],
   "source": [
    "data[['nombres', 'genero']]"
   ],
   "metadata": {
    "collapsed": false,
    "pycharm": {
     "name": "#%%\n"
    }
   }
  },
  {
   "cell_type": "code",
   "execution_count": 41,
   "outputs": [
    {
     "data": {
      "text/plain": "                    nombres  edad  altura   peso  n_hijos       perfil  \\\n2  Nancy Tantalean Cabrales    53    1.64  80.26        2  Profesional   \n\n     genero   etnia  ingreso  ingreso_anual        imc  \n2  Femenino  Mulata  4000.25        48003.0  29.840869  ",
      "text/html": "<div>\n<style scoped>\n    .dataframe tbody tr th:only-of-type {\n        vertical-align: middle;\n    }\n\n    .dataframe tbody tr th {\n        vertical-align: top;\n    }\n\n    .dataframe thead th {\n        text-align: right;\n    }\n</style>\n<table border=\"1\" class=\"dataframe\">\n  <thead>\n    <tr style=\"text-align: right;\">\n      <th></th>\n      <th>nombres</th>\n      <th>edad</th>\n      <th>altura</th>\n      <th>peso</th>\n      <th>n_hijos</th>\n      <th>perfil</th>\n      <th>genero</th>\n      <th>etnia</th>\n      <th>ingreso</th>\n      <th>ingreso_anual</th>\n      <th>imc</th>\n    </tr>\n  </thead>\n  <tbody>\n    <tr>\n      <th>2</th>\n      <td>Nancy Tantalean Cabrales</td>\n      <td>53</td>\n      <td>1.64</td>\n      <td>80.26</td>\n      <td>2</td>\n      <td>Profesional</td>\n      <td>Femenino</td>\n      <td>Mulata</td>\n      <td>4000.25</td>\n      <td>48003.0</td>\n      <td>29.840869</td>\n    </tr>\n  </tbody>\n</table>\n</div>"
     },
     "execution_count": 41,
     "metadata": {},
     "output_type": "execute_result"
    }
   ],
   "source": [
    "data[(data['ingreso'] > 1500) & (data['genero'] == 'Femenino')]"
   ],
   "metadata": {
    "collapsed": false,
    "pycharm": {
     "name": "#%%\n"
    }
   }
  },
  {
   "cell_type": "code",
   "execution_count": 42,
   "outputs": [
    {
     "name": "stdout",
     "output_type": "stream",
     "text": [
      "<class 'pandas.core.frame.DataFrame'>\n",
      "RangeIndex: 4 entries, 0 to 3\n",
      "Data columns (total 11 columns):\n",
      " #   Column         Non-Null Count  Dtype  \n",
      "---  ------         --------------  -----  \n",
      " 0   nombres        4 non-null      object \n",
      " 1   edad           4 non-null      int64  \n",
      " 2   altura         4 non-null      float64\n",
      " 3   peso           4 non-null      float64\n",
      " 4   n_hijos        4 non-null      int64  \n",
      " 5   perfil         4 non-null      object \n",
      " 6   genero         4 non-null      object \n",
      " 7   etnia          4 non-null      object \n",
      " 8   ingreso        4 non-null      float64\n",
      " 9   ingreso_anual  4 non-null      float64\n",
      " 10  imc            4 non-null      float64\n",
      "dtypes: float64(5), int64(2), object(4)\n",
      "memory usage: 480.0+ bytes\n"
     ]
    }
   ],
   "source": [
    "data.info()"
   ],
   "metadata": {
    "collapsed": false,
    "pycharm": {
     "name": "#%%\n"
    }
   }
  },
  {
   "cell_type": "code",
   "execution_count": 43,
   "outputs": [
    {
     "data": {
      "text/plain": "nombres          0\nedad             0\naltura           0\npeso             0\nn_hijos          0\nperfil           0\ngenero           0\netnia            0\ningreso          0\ningreso_anual    0\nimc              0\ndtype: int64"
     },
     "execution_count": 43,
     "metadata": {},
     "output_type": "execute_result"
    }
   ],
   "source": [
    "data.isnull().sum()"
   ],
   "metadata": {
    "collapsed": false,
    "pycharm": {
     "name": "#%%\n"
    }
   }
  },
  {
   "cell_type": "code",
   "execution_count": 44,
   "outputs": [
    {
     "data": {
      "text/plain": "Index(['nombres', 'edad', 'altura', 'peso', 'n_hijos', 'perfil', 'genero',\n       'etnia', 'ingreso', 'ingreso_anual', 'imc'],\n      dtype='object')"
     },
     "execution_count": 44,
     "metadata": {},
     "output_type": "execute_result"
    }
   ],
   "source": [
    "data.columns"
   ],
   "metadata": {
    "collapsed": false,
    "pycharm": {
     "name": "#%%\n"
    }
   }
  },
  {
   "cell_type": "code",
   "execution_count": 45,
   "outputs": [
    {
     "data": {
      "text/plain": "                     nombres  edad  altura   peso  n_hijos       perfil  \\\n1  Maricielo Marin Tantalean    22    1.66  70.35        0  Profesional   \n2   Nancy Tantalean Cabrales    53    1.64  80.26        2  Profesional   \n3       Moises Marin Aguilar    58    1.69  73.22        2  Profesional   \n\n      genero    etnia  ingreso  ingreso_anual        imc  \n1   Femenino   Blanco  1025.00        12300.0  25.529830  \n2   Femenino   Mulata  4000.25        48003.0  29.840869  \n3  Masculino  Mestizo  2000.25        24003.0  25.636357  ",
      "text/html": "<div>\n<style scoped>\n    .dataframe tbody tr th:only-of-type {\n        vertical-align: middle;\n    }\n\n    .dataframe tbody tr th {\n        vertical-align: top;\n    }\n\n    .dataframe thead th {\n        text-align: right;\n    }\n</style>\n<table border=\"1\" class=\"dataframe\">\n  <thead>\n    <tr style=\"text-align: right;\">\n      <th></th>\n      <th>nombres</th>\n      <th>edad</th>\n      <th>altura</th>\n      <th>peso</th>\n      <th>n_hijos</th>\n      <th>perfil</th>\n      <th>genero</th>\n      <th>etnia</th>\n      <th>ingreso</th>\n      <th>ingreso_anual</th>\n      <th>imc</th>\n    </tr>\n  </thead>\n  <tbody>\n    <tr>\n      <th>1</th>\n      <td>Maricielo Marin Tantalean</td>\n      <td>22</td>\n      <td>1.66</td>\n      <td>70.35</td>\n      <td>0</td>\n      <td>Profesional</td>\n      <td>Femenino</td>\n      <td>Blanco</td>\n      <td>1025.00</td>\n      <td>12300.0</td>\n      <td>25.529830</td>\n    </tr>\n    <tr>\n      <th>2</th>\n      <td>Nancy Tantalean Cabrales</td>\n      <td>53</td>\n      <td>1.64</td>\n      <td>80.26</td>\n      <td>2</td>\n      <td>Profesional</td>\n      <td>Femenino</td>\n      <td>Mulata</td>\n      <td>4000.25</td>\n      <td>48003.0</td>\n      <td>29.840869</td>\n    </tr>\n    <tr>\n      <th>3</th>\n      <td>Moises Marin Aguilar</td>\n      <td>58</td>\n      <td>1.69</td>\n      <td>73.22</td>\n      <td>2</td>\n      <td>Profesional</td>\n      <td>Masculino</td>\n      <td>Mestizo</td>\n      <td>2000.25</td>\n      <td>24003.0</td>\n      <td>25.636357</td>\n    </tr>\n  </tbody>\n</table>\n</div>"
     },
     "execution_count": 45,
     "metadata": {},
     "output_type": "execute_result"
    }
   ],
   "source": [
    "data[1:]"
   ],
   "metadata": {
    "collapsed": false,
    "pycharm": {
     "name": "#%%\n"
    }
   }
  },
  {
   "cell_type": "code",
   "execution_count": 46,
   "outputs": [
    {
     "data": {
      "text/plain": "np.int64(58)"
     },
     "execution_count": 46,
     "metadata": {},
     "output_type": "execute_result"
    }
   ],
   "source": [
    "data.iloc[3,1]"
   ],
   "metadata": {
    "collapsed": false,
    "pycharm": {
     "name": "#%%\n"
    }
   }
  },
  {
   "cell_type": "code",
   "execution_count": 47,
   "outputs": [
    {
     "data": {
      "text/plain": "                     nombres  edad\n0     Moises Marin Tantalean    23\n1  Maricielo Marin Tantalean    22\n2   Nancy Tantalean Cabrales    53",
      "text/html": "<div>\n<style scoped>\n    .dataframe tbody tr th:only-of-type {\n        vertical-align: middle;\n    }\n\n    .dataframe tbody tr th {\n        vertical-align: top;\n    }\n\n    .dataframe thead th {\n        text-align: right;\n    }\n</style>\n<table border=\"1\" class=\"dataframe\">\n  <thead>\n    <tr style=\"text-align: right;\">\n      <th></th>\n      <th>nombres</th>\n      <th>edad</th>\n    </tr>\n  </thead>\n  <tbody>\n    <tr>\n      <th>0</th>\n      <td>Moises Marin Tantalean</td>\n      <td>23</td>\n    </tr>\n    <tr>\n      <th>1</th>\n      <td>Maricielo Marin Tantalean</td>\n      <td>22</td>\n    </tr>\n    <tr>\n      <th>2</th>\n      <td>Nancy Tantalean Cabrales</td>\n      <td>53</td>\n    </tr>\n  </tbody>\n</table>\n</div>"
     },
     "execution_count": 47,
     "metadata": {},
     "output_type": "execute_result"
    }
   ],
   "source": [
    "data.loc[0:2, ['nombres', 'edad']]"
   ],
   "metadata": {
    "collapsed": false,
    "pycharm": {
     "name": "#%%\n"
    }
   }
  },
  {
   "cell_type": "code",
   "execution_count": 48,
   "outputs": [
    {
     "data": {
      "text/plain": "   altura   peso\n0    1.70  89.25\n1    1.66  70.35\n2    1.64  80.26",
      "text/html": "<div>\n<style scoped>\n    .dataframe tbody tr th:only-of-type {\n        vertical-align: middle;\n    }\n\n    .dataframe tbody tr th {\n        vertical-align: top;\n    }\n\n    .dataframe thead th {\n        text-align: right;\n    }\n</style>\n<table border=\"1\" class=\"dataframe\">\n  <thead>\n    <tr style=\"text-align: right;\">\n      <th></th>\n      <th>altura</th>\n      <th>peso</th>\n    </tr>\n  </thead>\n  <tbody>\n    <tr>\n      <th>0</th>\n      <td>1.70</td>\n      <td>89.25</td>\n    </tr>\n    <tr>\n      <th>1</th>\n      <td>1.66</td>\n      <td>70.35</td>\n    </tr>\n    <tr>\n      <th>2</th>\n      <td>1.64</td>\n      <td>80.26</td>\n    </tr>\n  </tbody>\n</table>\n</div>"
     },
     "execution_count": 48,
     "metadata": {},
     "output_type": "execute_result"
    }
   ],
   "source": [
    "data.iloc[0:3, [2, 3]]"
   ],
   "metadata": {
    "collapsed": false,
    "pycharm": {
     "name": "#%%\n"
    }
   }
  }
 ],
 "metadata": {
  "kernelspec": {
   "display_name": "Python 3",
   "language": "python",
   "name": "python3"
  },
  "language_info": {
   "codemirror_mode": {
    "name": "ipython",
    "version": 2
   },
   "file_extension": ".py",
   "mimetype": "text/x-python",
   "name": "python",
   "nbconvert_exporter": "python",
   "pygments_lexer": "ipython2",
   "version": "2.7.6"
  }
 },
 "nbformat": 4,
 "nbformat_minor": 0
}