{
 "cells": [
  {
   "cell_type": "code",
   "execution_count": 178,
   "metadata": {
    "collapsed": true
   },
   "outputs": [],
   "source": [
    "import pandas as pd"
   ]
  },
  {
   "cell_type": "code",
   "execution_count": 179,
   "outputs": [
    {
     "data": {
      "text/plain": "      Mayor60Años Conyuge Dependientes  MesesDeContrato TelefonoFijo  \\\n0               0      Si           No                1           No   \n1               0      No           No               34           Si   \n2               0      No           No                2           Si   \n3               0      No           No               45           No   \n4               0      No           No                2           Si   \n...           ...     ...          ...              ...          ...   \n7038            0      Si           Si               24           Si   \n7039            0      Si           Si               72           Si   \n7040            0      Si           Si               11           No   \n7041            1      Si           No                4           Si   \n7042            0      No           No               66           Si   \n\n     VariasLineasTelefonicas ServicioDeInternet SeguridadOnline BackupOnline  \\\n0      SinServicioTelefonico                DSL              No           Si   \n1                         No                DSL              Si           No   \n2                         No                DSL              Si           Si   \n3      SinServicioTelefonico                DSL              Si           No   \n4                         No        FibraOptica              No           No   \n...                      ...                ...             ...          ...   \n7038                      Si                DSL              Si           No   \n7039                      Si        FibraOptica              No           Si   \n7040   SinServicioTelefonico                DSL              Si           No   \n7041                      Si        FibraOptica              No           No   \n7042                      No        FibraOptica              Si           No   \n\n     SeguroEnDispositivo SoporteTecnico TVCable Streaming TipoDeContrato  \\\n0                     No             No      No        No        Mensual   \n1                     Si             No      No        No          UnAño   \n2                     No             No      No        No        Mensual   \n3                     Si             Si      No        No          UnAño   \n4                     No             No      No        No        Mensual   \n...                  ...            ...     ...       ...            ...   \n7038                  Si             Si      Si        Si          UnAño   \n7039                  Si             No      Si        Si          UnAño   \n7040                  No             No      No        No        Mensual   \n7041                  No             No      No        No        Mensual   \n7042                  Si             Si      Si        Si        DosAños   \n\n     PagoOnline       FormaDePago  CuentaMensual Churn  \n0            Si     ChequeDigital          29.85    No  \n1            No       ChequePapel          56.95    No  \n2            Si       ChequePapel          53.85    Si  \n3            No    DebitoEnCuenta          42.30    No  \n4            Si     ChequeDigital          70.70    Si  \n...         ...               ...            ...   ...  \n7038         Si       ChequePapel          84.80    No  \n7039         Si  TarjetaDeCredito         103.20    No  \n7040         Si     ChequeDigital          29.60    No  \n7041         Si       ChequePapel          74.40    Si  \n7042         Si    DebitoEnCuenta         105.65    No  \n\n[7043 rows x 18 columns]",
      "text/html": "<div>\n<style scoped>\n    .dataframe tbody tr th:only-of-type {\n        vertical-align: middle;\n    }\n\n    .dataframe tbody tr th {\n        vertical-align: top;\n    }\n\n    .dataframe thead th {\n        text-align: right;\n    }\n</style>\n<table border=\"1\" class=\"dataframe\">\n  <thead>\n    <tr style=\"text-align: right;\">\n      <th></th>\n      <th>Mayor60Años</th>\n      <th>Conyuge</th>\n      <th>Dependientes</th>\n      <th>MesesDeContrato</th>\n      <th>TelefonoFijo</th>\n      <th>VariasLineasTelefonicas</th>\n      <th>ServicioDeInternet</th>\n      <th>SeguridadOnline</th>\n      <th>BackupOnline</th>\n      <th>SeguroEnDispositivo</th>\n      <th>SoporteTecnico</th>\n      <th>TVCable</th>\n      <th>Streaming</th>\n      <th>TipoDeContrato</th>\n      <th>PagoOnline</th>\n      <th>FormaDePago</th>\n      <th>CuentaMensual</th>\n      <th>Churn</th>\n    </tr>\n  </thead>\n  <tbody>\n    <tr>\n      <th>0</th>\n      <td>0</td>\n      <td>Si</td>\n      <td>No</td>\n      <td>1</td>\n      <td>No</td>\n      <td>SinServicioTelefonico</td>\n      <td>DSL</td>\n      <td>No</td>\n      <td>Si</td>\n      <td>No</td>\n      <td>No</td>\n      <td>No</td>\n      <td>No</td>\n      <td>Mensual</td>\n      <td>Si</td>\n      <td>ChequeDigital</td>\n      <td>29.85</td>\n      <td>No</td>\n    </tr>\n    <tr>\n      <th>1</th>\n      <td>0</td>\n      <td>No</td>\n      <td>No</td>\n      <td>34</td>\n      <td>Si</td>\n      <td>No</td>\n      <td>DSL</td>\n      <td>Si</td>\n      <td>No</td>\n      <td>Si</td>\n      <td>No</td>\n      <td>No</td>\n      <td>No</td>\n      <td>UnAño</td>\n      <td>No</td>\n      <td>ChequePapel</td>\n      <td>56.95</td>\n      <td>No</td>\n    </tr>\n    <tr>\n      <th>2</th>\n      <td>0</td>\n      <td>No</td>\n      <td>No</td>\n      <td>2</td>\n      <td>Si</td>\n      <td>No</td>\n      <td>DSL</td>\n      <td>Si</td>\n      <td>Si</td>\n      <td>No</td>\n      <td>No</td>\n      <td>No</td>\n      <td>No</td>\n      <td>Mensual</td>\n      <td>Si</td>\n      <td>ChequePapel</td>\n      <td>53.85</td>\n      <td>Si</td>\n    </tr>\n    <tr>\n      <th>3</th>\n      <td>0</td>\n      <td>No</td>\n      <td>No</td>\n      <td>45</td>\n      <td>No</td>\n      <td>SinServicioTelefonico</td>\n      <td>DSL</td>\n      <td>Si</td>\n      <td>No</td>\n      <td>Si</td>\n      <td>Si</td>\n      <td>No</td>\n      <td>No</td>\n      <td>UnAño</td>\n      <td>No</td>\n      <td>DebitoEnCuenta</td>\n      <td>42.30</td>\n      <td>No</td>\n    </tr>\n    <tr>\n      <th>4</th>\n      <td>0</td>\n      <td>No</td>\n      <td>No</td>\n      <td>2</td>\n      <td>Si</td>\n      <td>No</td>\n      <td>FibraOptica</td>\n      <td>No</td>\n      <td>No</td>\n      <td>No</td>\n      <td>No</td>\n      <td>No</td>\n      <td>No</td>\n      <td>Mensual</td>\n      <td>Si</td>\n      <td>ChequeDigital</td>\n      <td>70.70</td>\n      <td>Si</td>\n    </tr>\n    <tr>\n      <th>...</th>\n      <td>...</td>\n      <td>...</td>\n      <td>...</td>\n      <td>...</td>\n      <td>...</td>\n      <td>...</td>\n      <td>...</td>\n      <td>...</td>\n      <td>...</td>\n      <td>...</td>\n      <td>...</td>\n      <td>...</td>\n      <td>...</td>\n      <td>...</td>\n      <td>...</td>\n      <td>...</td>\n      <td>...</td>\n      <td>...</td>\n    </tr>\n    <tr>\n      <th>7038</th>\n      <td>0</td>\n      <td>Si</td>\n      <td>Si</td>\n      <td>24</td>\n      <td>Si</td>\n      <td>Si</td>\n      <td>DSL</td>\n      <td>Si</td>\n      <td>No</td>\n      <td>Si</td>\n      <td>Si</td>\n      <td>Si</td>\n      <td>Si</td>\n      <td>UnAño</td>\n      <td>Si</td>\n      <td>ChequePapel</td>\n      <td>84.80</td>\n      <td>No</td>\n    </tr>\n    <tr>\n      <th>7039</th>\n      <td>0</td>\n      <td>Si</td>\n      <td>Si</td>\n      <td>72</td>\n      <td>Si</td>\n      <td>Si</td>\n      <td>FibraOptica</td>\n      <td>No</td>\n      <td>Si</td>\n      <td>Si</td>\n      <td>No</td>\n      <td>Si</td>\n      <td>Si</td>\n      <td>UnAño</td>\n      <td>Si</td>\n      <td>TarjetaDeCredito</td>\n      <td>103.20</td>\n      <td>No</td>\n    </tr>\n    <tr>\n      <th>7040</th>\n      <td>0</td>\n      <td>Si</td>\n      <td>Si</td>\n      <td>11</td>\n      <td>No</td>\n      <td>SinServicioTelefonico</td>\n      <td>DSL</td>\n      <td>Si</td>\n      <td>No</td>\n      <td>No</td>\n      <td>No</td>\n      <td>No</td>\n      <td>No</td>\n      <td>Mensual</td>\n      <td>Si</td>\n      <td>ChequeDigital</td>\n      <td>29.60</td>\n      <td>No</td>\n    </tr>\n    <tr>\n      <th>7041</th>\n      <td>1</td>\n      <td>Si</td>\n      <td>No</td>\n      <td>4</td>\n      <td>Si</td>\n      <td>Si</td>\n      <td>FibraOptica</td>\n      <td>No</td>\n      <td>No</td>\n      <td>No</td>\n      <td>No</td>\n      <td>No</td>\n      <td>No</td>\n      <td>Mensual</td>\n      <td>Si</td>\n      <td>ChequePapel</td>\n      <td>74.40</td>\n      <td>Si</td>\n    </tr>\n    <tr>\n      <th>7042</th>\n      <td>0</td>\n      <td>No</td>\n      <td>No</td>\n      <td>66</td>\n      <td>Si</td>\n      <td>No</td>\n      <td>FibraOptica</td>\n      <td>Si</td>\n      <td>No</td>\n      <td>Si</td>\n      <td>Si</td>\n      <td>Si</td>\n      <td>Si</td>\n      <td>DosAños</td>\n      <td>Si</td>\n      <td>DebitoEnCuenta</td>\n      <td>105.65</td>\n      <td>No</td>\n    </tr>\n  </tbody>\n</table>\n<p>7043 rows × 18 columns</p>\n</div>"
     },
     "execution_count": 179,
     "metadata": {},
     "output_type": "execute_result"
    }
   ],
   "source": [
    "customers = pd.read_csv('db/Customer.csv')\n",
    "customers"
   ],
   "metadata": {
    "collapsed": false,
    "pycharm": {
     "name": "#%%\n"
    }
   }
  },
  {
   "cell_type": "code",
   "execution_count": 180,
   "outputs": [
    {
     "data": {
      "text/plain": "(7043, 18)"
     },
     "execution_count": 180,
     "metadata": {},
     "output_type": "execute_result"
    }
   ],
   "source": [
    "customers.shape"
   ],
   "metadata": {
    "collapsed": false,
    "pycharm": {
     "name": "#%%\n"
    }
   }
  },
  {
   "cell_type": "code",
   "execution_count": 181,
   "outputs": [
    {
     "name": "stdout",
     "output_type": "stream",
     "text": [
      "<class 'pandas.core.frame.DataFrame'>\n",
      "RangeIndex: 7043 entries, 0 to 7042\n",
      "Data columns (total 18 columns):\n",
      " #   Column                   Non-Null Count  Dtype  \n",
      "---  ------                   --------------  -----  \n",
      " 0   Mayor60Años              7043 non-null   int64  \n",
      " 1   Conyuge                  7043 non-null   object \n",
      " 2   Dependientes             7043 non-null   object \n",
      " 3   MesesDeContrato          7043 non-null   int64  \n",
      " 4   TelefonoFijo             7043 non-null   object \n",
      " 5   VariasLineasTelefonicas  7043 non-null   object \n",
      " 6   ServicioDeInternet       7043 non-null   object \n",
      " 7   SeguridadOnline          7043 non-null   object \n",
      " 8   BackupOnline             7043 non-null   object \n",
      " 9   SeguroEnDispositivo      7043 non-null   object \n",
      " 10  SoporteTecnico           7043 non-null   object \n",
      " 11  TVCable                  7043 non-null   object \n",
      " 12  Streaming                7043 non-null   object \n",
      " 13  TipoDeContrato           7043 non-null   object \n",
      " 14  PagoOnline               7043 non-null   object \n",
      " 15  FormaDePago              7043 non-null   object \n",
      " 16  CuentaMensual            7043 non-null   float64\n",
      " 17  Churn                    7043 non-null   object \n",
      "dtypes: float64(1), int64(2), object(15)\n",
      "memory usage: 990.5+ KB\n"
     ]
    }
   ],
   "source": [
    "customers.info()"
   ],
   "metadata": {
    "collapsed": false,
    "pycharm": {
     "name": "#%%\n"
    }
   }
  },
  {
   "cell_type": "code",
   "execution_count": 182,
   "outputs": [
    {
     "data": {
      "text/plain": "['Conyuge',\n 'Dependientes',\n 'TelefonoFijo',\n 'VariasLineasTelefonicas',\n 'ServicioDeInternet',\n 'SeguridadOnline',\n 'BackupOnline',\n 'SeguroEnDispositivo',\n 'SoporteTecnico',\n 'TVCable',\n 'Streaming',\n 'TipoDeContrato',\n 'PagoOnline',\n 'FormaDePago',\n 'Churn']"
     },
     "execution_count": 182,
     "metadata": {},
     "output_type": "execute_result"
    }
   ],
   "source": [
    "columnas_categoricas = [column for column in customers.columns if customers[column].dtypes == 'object']\n",
    "columnas_categoricas"
   ],
   "metadata": {
    "collapsed": false,
    "pycharm": {
     "name": "#%%\n"
    }
   }
  },
  {
   "cell_type": "code",
   "execution_count": 183,
   "outputs": [
    {
     "data": {
      "text/plain": "['Mayor60Años', 'MesesDeContrato', 'CuentaMensual']"
     },
     "execution_count": 183,
     "metadata": {},
     "output_type": "execute_result"
    }
   ],
   "source": [
    "columnas_numericas = [column for column in customers.columns if customers[column].dtypes != 'object']\n",
    "columnas_numericas"
   ],
   "metadata": {
    "collapsed": false,
    "pycharm": {
     "name": "#%%\n"
    }
   }
  },
  {
   "cell_type": "code",
   "execution_count": 184,
   "outputs": [
    {
     "data": {
      "text/plain": "['Conyuge',\n 'Dependientes',\n 'TelefonoFijo',\n 'VariasLineasTelefonicas',\n 'ServicioDeInternet',\n 'SeguridadOnline',\n 'BackupOnline',\n 'SeguroEnDispositivo',\n 'SoporteTecnico',\n 'TVCable',\n 'Streaming',\n 'TipoDeContrato',\n 'PagoOnline',\n 'FormaDePago']"
     },
     "execution_count": 184,
     "metadata": {},
     "output_type": "execute_result"
    }
   ],
   "source": [
    "caracteristicas_categoricas = [column for column in columnas_categoricas if column != 'Churn']\n",
    "caracteristicas_categoricas"
   ],
   "metadata": {
    "collapsed": false,
    "pycharm": {
     "name": "#%%\n"
    }
   }
  },
  {
   "cell_type": "code",
   "execution_count": 185,
   "outputs": [
    {
     "data": {
      "text/plain": "['Churn']"
     },
     "execution_count": 185,
     "metadata": {},
     "output_type": "execute_result"
    }
   ],
   "source": [
    "target = ['Churn']\n",
    "target"
   ],
   "metadata": {
    "collapsed": false,
    "pycharm": {
     "name": "#%%\n"
    }
   }
  },
  {
   "cell_type": "code",
   "execution_count": 186,
   "outputs": [],
   "source": [
    "from sklearn.preprocessing import OneHotEncoder"
   ],
   "metadata": {
    "collapsed": false,
    "pycharm": {
     "name": "#%%\n"
    }
   }
  },
  {
   "cell_type": "code",
   "execution_count": 187,
   "outputs": [
    {
     "data": {
      "text/plain": "      Mayor60Años  MesesDeContrato  CuentaMensual Churn  Conyuge_No  \\\n0               0                1          29.85    No         0.0   \n1               0               34          56.95    No         1.0   \n2               0                2          53.85    Si         1.0   \n3               0               45          42.30    No         1.0   \n4               0                2          70.70    Si         1.0   \n...           ...              ...            ...   ...         ...   \n7038            0               24          84.80    No         0.0   \n7039            0               72         103.20    No         0.0   \n7040            0               11          29.60    No         0.0   \n7041            1                4          74.40    Si         0.0   \n7042            0               66         105.65    No         1.0   \n\n      Conyuge_Si  Dependientes_No  Dependientes_Si  TelefonoFijo_No  \\\n0            1.0              1.0              0.0              1.0   \n1            0.0              1.0              0.0              0.0   \n2            0.0              1.0              0.0              0.0   \n3            0.0              1.0              0.0              1.0   \n4            0.0              1.0              0.0              0.0   \n...          ...              ...              ...              ...   \n7038         1.0              0.0              1.0              0.0   \n7039         1.0              0.0              1.0              0.0   \n7040         1.0              0.0              1.0              1.0   \n7041         1.0              1.0              0.0              0.0   \n7042         0.0              1.0              0.0              0.0   \n\n      TelefonoFijo_Si  ...  Streaming_SinServicioDeInternet  \\\n0                 0.0  ...                              0.0   \n1                 1.0  ...                              0.0   \n2                 1.0  ...                              0.0   \n3                 0.0  ...                              0.0   \n4                 1.0  ...                              0.0   \n...               ...  ...                              ...   \n7038              1.0  ...                              0.0   \n7039              1.0  ...                              0.0   \n7040              0.0  ...                              0.0   \n7041              1.0  ...                              0.0   \n7042              1.0  ...                              0.0   \n\n      TipoDeContrato_DosAños  TipoDeContrato_Mensual  TipoDeContrato_UnAño  \\\n0                        0.0                     1.0                   0.0   \n1                        0.0                     0.0                   1.0   \n2                        0.0                     1.0                   0.0   \n3                        0.0                     0.0                   1.0   \n4                        0.0                     1.0                   0.0   \n...                      ...                     ...                   ...   \n7038                     0.0                     0.0                   1.0   \n7039                     0.0                     0.0                   1.0   \n7040                     0.0                     1.0                   0.0   \n7041                     0.0                     1.0                   0.0   \n7042                     1.0                     0.0                   0.0   \n\n      PagoOnline_No  PagoOnline_Si  FormaDePago_ChequeDigital  \\\n0               0.0            1.0                        1.0   \n1               1.0            0.0                        0.0   \n2               0.0            1.0                        0.0   \n3               1.0            0.0                        0.0   \n4               0.0            1.0                        1.0   \n...             ...            ...                        ...   \n7038            0.0            1.0                        0.0   \n7039            0.0            1.0                        0.0   \n7040            0.0            1.0                        1.0   \n7041            0.0            1.0                        0.0   \n7042            0.0            1.0                        0.0   \n\n      FormaDePago_ChequePapel  FormaDePago_DebitoEnCuenta  \\\n0                         0.0                         0.0   \n1                         1.0                         0.0   \n2                         1.0                         0.0   \n3                         0.0                         1.0   \n4                         0.0                         0.0   \n...                       ...                         ...   \n7038                      1.0                         0.0   \n7039                      0.0                         0.0   \n7040                      0.0                         0.0   \n7041                      1.0                         0.0   \n7042                      0.0                         1.0   \n\n      FormaDePago_TarjetaDeCredito  \n0                              0.0  \n1                              0.0  \n2                              0.0  \n3                              0.0  \n4                              0.0  \n...                            ...  \n7038                           0.0  \n7039                           1.0  \n7040                           0.0  \n7041                           0.0  \n7042                           0.0  \n\n[7043 rows x 43 columns]",
      "text/html": "<div>\n<style scoped>\n    .dataframe tbody tr th:only-of-type {\n        vertical-align: middle;\n    }\n\n    .dataframe tbody tr th {\n        vertical-align: top;\n    }\n\n    .dataframe thead th {\n        text-align: right;\n    }\n</style>\n<table border=\"1\" class=\"dataframe\">\n  <thead>\n    <tr style=\"text-align: right;\">\n      <th></th>\n      <th>Mayor60Años</th>\n      <th>MesesDeContrato</th>\n      <th>CuentaMensual</th>\n      <th>Churn</th>\n      <th>Conyuge_No</th>\n      <th>Conyuge_Si</th>\n      <th>Dependientes_No</th>\n      <th>Dependientes_Si</th>\n      <th>TelefonoFijo_No</th>\n      <th>TelefonoFijo_Si</th>\n      <th>...</th>\n      <th>Streaming_SinServicioDeInternet</th>\n      <th>TipoDeContrato_DosAños</th>\n      <th>TipoDeContrato_Mensual</th>\n      <th>TipoDeContrato_UnAño</th>\n      <th>PagoOnline_No</th>\n      <th>PagoOnline_Si</th>\n      <th>FormaDePago_ChequeDigital</th>\n      <th>FormaDePago_ChequePapel</th>\n      <th>FormaDePago_DebitoEnCuenta</th>\n      <th>FormaDePago_TarjetaDeCredito</th>\n    </tr>\n  </thead>\n  <tbody>\n    <tr>\n      <th>0</th>\n      <td>0</td>\n      <td>1</td>\n      <td>29.85</td>\n      <td>No</td>\n      <td>0.0</td>\n      <td>1.0</td>\n      <td>1.0</td>\n      <td>0.0</td>\n      <td>1.0</td>\n      <td>0.0</td>\n      <td>...</td>\n      <td>0.0</td>\n      <td>0.0</td>\n      <td>1.0</td>\n      <td>0.0</td>\n      <td>0.0</td>\n      <td>1.0</td>\n      <td>1.0</td>\n      <td>0.0</td>\n      <td>0.0</td>\n      <td>0.0</td>\n    </tr>\n    <tr>\n      <th>1</th>\n      <td>0</td>\n      <td>34</td>\n      <td>56.95</td>\n      <td>No</td>\n      <td>1.0</td>\n      <td>0.0</td>\n      <td>1.0</td>\n      <td>0.0</td>\n      <td>0.0</td>\n      <td>1.0</td>\n      <td>...</td>\n      <td>0.0</td>\n      <td>0.0</td>\n      <td>0.0</td>\n      <td>1.0</td>\n      <td>1.0</td>\n      <td>0.0</td>\n      <td>0.0</td>\n      <td>1.0</td>\n      <td>0.0</td>\n      <td>0.0</td>\n    </tr>\n    <tr>\n      <th>2</th>\n      <td>0</td>\n      <td>2</td>\n      <td>53.85</td>\n      <td>Si</td>\n      <td>1.0</td>\n      <td>0.0</td>\n      <td>1.0</td>\n      <td>0.0</td>\n      <td>0.0</td>\n      <td>1.0</td>\n      <td>...</td>\n      <td>0.0</td>\n      <td>0.0</td>\n      <td>1.0</td>\n      <td>0.0</td>\n      <td>0.0</td>\n      <td>1.0</td>\n      <td>0.0</td>\n      <td>1.0</td>\n      <td>0.0</td>\n      <td>0.0</td>\n    </tr>\n    <tr>\n      <th>3</th>\n      <td>0</td>\n      <td>45</td>\n      <td>42.30</td>\n      <td>No</td>\n      <td>1.0</td>\n      <td>0.0</td>\n      <td>1.0</td>\n      <td>0.0</td>\n      <td>1.0</td>\n      <td>0.0</td>\n      <td>...</td>\n      <td>0.0</td>\n      <td>0.0</td>\n      <td>0.0</td>\n      <td>1.0</td>\n      <td>1.0</td>\n      <td>0.0</td>\n      <td>0.0</td>\n      <td>0.0</td>\n      <td>1.0</td>\n      <td>0.0</td>\n    </tr>\n    <tr>\n      <th>4</th>\n      <td>0</td>\n      <td>2</td>\n      <td>70.70</td>\n      <td>Si</td>\n      <td>1.0</td>\n      <td>0.0</td>\n      <td>1.0</td>\n      <td>0.0</td>\n      <td>0.0</td>\n      <td>1.0</td>\n      <td>...</td>\n      <td>0.0</td>\n      <td>0.0</td>\n      <td>1.0</td>\n      <td>0.0</td>\n      <td>0.0</td>\n      <td>1.0</td>\n      <td>1.0</td>\n      <td>0.0</td>\n      <td>0.0</td>\n      <td>0.0</td>\n    </tr>\n    <tr>\n      <th>...</th>\n      <td>...</td>\n      <td>...</td>\n      <td>...</td>\n      <td>...</td>\n      <td>...</td>\n      <td>...</td>\n      <td>...</td>\n      <td>...</td>\n      <td>...</td>\n      <td>...</td>\n      <td>...</td>\n      <td>...</td>\n      <td>...</td>\n      <td>...</td>\n      <td>...</td>\n      <td>...</td>\n      <td>...</td>\n      <td>...</td>\n      <td>...</td>\n      <td>...</td>\n      <td>...</td>\n    </tr>\n    <tr>\n      <th>7038</th>\n      <td>0</td>\n      <td>24</td>\n      <td>84.80</td>\n      <td>No</td>\n      <td>0.0</td>\n      <td>1.0</td>\n      <td>0.0</td>\n      <td>1.0</td>\n      <td>0.0</td>\n      <td>1.0</td>\n      <td>...</td>\n      <td>0.0</td>\n      <td>0.0</td>\n      <td>0.0</td>\n      <td>1.0</td>\n      <td>0.0</td>\n      <td>1.0</td>\n      <td>0.0</td>\n      <td>1.0</td>\n      <td>0.0</td>\n      <td>0.0</td>\n    </tr>\n    <tr>\n      <th>7039</th>\n      <td>0</td>\n      <td>72</td>\n      <td>103.20</td>\n      <td>No</td>\n      <td>0.0</td>\n      <td>1.0</td>\n      <td>0.0</td>\n      <td>1.0</td>\n      <td>0.0</td>\n      <td>1.0</td>\n      <td>...</td>\n      <td>0.0</td>\n      <td>0.0</td>\n      <td>0.0</td>\n      <td>1.0</td>\n      <td>0.0</td>\n      <td>1.0</td>\n      <td>0.0</td>\n      <td>0.0</td>\n      <td>0.0</td>\n      <td>1.0</td>\n    </tr>\n    <tr>\n      <th>7040</th>\n      <td>0</td>\n      <td>11</td>\n      <td>29.60</td>\n      <td>No</td>\n      <td>0.0</td>\n      <td>1.0</td>\n      <td>0.0</td>\n      <td>1.0</td>\n      <td>1.0</td>\n      <td>0.0</td>\n      <td>...</td>\n      <td>0.0</td>\n      <td>0.0</td>\n      <td>1.0</td>\n      <td>0.0</td>\n      <td>0.0</td>\n      <td>1.0</td>\n      <td>1.0</td>\n      <td>0.0</td>\n      <td>0.0</td>\n      <td>0.0</td>\n    </tr>\n    <tr>\n      <th>7041</th>\n      <td>1</td>\n      <td>4</td>\n      <td>74.40</td>\n      <td>Si</td>\n      <td>0.0</td>\n      <td>1.0</td>\n      <td>1.0</td>\n      <td>0.0</td>\n      <td>0.0</td>\n      <td>1.0</td>\n      <td>...</td>\n      <td>0.0</td>\n      <td>0.0</td>\n      <td>1.0</td>\n      <td>0.0</td>\n      <td>0.0</td>\n      <td>1.0</td>\n      <td>0.0</td>\n      <td>1.0</td>\n      <td>0.0</td>\n      <td>0.0</td>\n    </tr>\n    <tr>\n      <th>7042</th>\n      <td>0</td>\n      <td>66</td>\n      <td>105.65</td>\n      <td>No</td>\n      <td>1.0</td>\n      <td>0.0</td>\n      <td>1.0</td>\n      <td>0.0</td>\n      <td>0.0</td>\n      <td>1.0</td>\n      <td>...</td>\n      <td>0.0</td>\n      <td>1.0</td>\n      <td>0.0</td>\n      <td>0.0</td>\n      <td>0.0</td>\n      <td>1.0</td>\n      <td>0.0</td>\n      <td>0.0</td>\n      <td>1.0</td>\n      <td>0.0</td>\n    </tr>\n  </tbody>\n</table>\n<p>7043 rows × 43 columns</p>\n</div>"
     },
     "execution_count": 187,
     "metadata": {},
     "output_type": "execute_result"
    }
   ],
   "source": [
    "enconder = OneHotEncoder(handle_unknown='ignore', sparse_output=False)\n",
    "enconder.fit(customers[caracteristicas_categoricas])\n",
    "data_out_enconder = pd.DataFrame(data=enconder.transform(customers[caracteristicas_categoricas]),\n",
    "                                 columns=enconder.get_feature_names_out(caracteristicas_categoricas)\n",
    "                                 )\n",
    "customers = pd.concat([customers, data_out_enconder], axis=1)\n",
    "customers = customers.drop(columns=caracteristicas_categoricas, axis=1)\n",
    "customers"
   ],
   "metadata": {
    "collapsed": false,
    "pycharm": {
     "name": "#%%\n"
    }
   }
  },
  {
   "cell_type": "markdown",
   "source": [
    "OTRA FORMA DE HACERLO CON ESTA SEGUNDA OPCIÓN\n",
    "si te da error, comenta el codigo anterior, sin embargo, esta 2 opción es menos eficiente que la primer opción"
   ],
   "metadata": {
    "collapsed": false
   }
  },
  {
   "cell_type": "code",
   "execution_count": 188,
   "outputs": [],
   "source": [
    "# for col in caracteristicas_categoricas:\n",
    "#     enconder = OneHotEncoder(handle_unknown='ignore', sparse_output=False)\n",
    "#     enconder.fit(customers[[col]])\n",
    "#     data_out_enconder = pd.DataFrame(data=enconder.transform(customers[[col]]), columns=enconder.get_feature_names_out([col]))\n",
    "#     customers = pd.concat([customers, data_out_enconder], axis=1)\n",
    "#     customers = customers.drop(columns=col, axis=1)\n",
    "# customers"
   ],
   "metadata": {
    "collapsed": false,
    "pycharm": {
     "name": "#%%\n"
    }
   }
  }
 ],
 "metadata": {
  "kernelspec": {
   "display_name": "Python 3",
   "language": "python",
   "name": "python3"
  },
  "language_info": {
   "codemirror_mode": {
    "name": "ipython",
    "version": 2
   },
   "file_extension": ".py",
   "mimetype": "text/x-python",
   "name": "python",
   "nbconvert_exporter": "python",
   "pygments_lexer": "ipython2",
   "version": "2.7.6"
  }
 },
 "nbformat": 4,
 "nbformat_minor": 0
}